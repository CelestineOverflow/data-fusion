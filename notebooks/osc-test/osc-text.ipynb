{
 "cells": [
  {
   "cell_type": "code",
   "execution_count": 1,
   "metadata": {},
   "outputs": [
    {
     "name": "stdout",
     "output_type": "stream",
     "text": [
      "192.168.31.242\n"
     ]
    }
   ],
   "source": [
    "from pythonosc.udp_client import SimpleUDPClient\n",
    "import time\n",
    "import json\n",
    "import threading\n",
    "import queue\n",
    "import socket\n",
    "from typing import NamedTuple\n",
    "#get ip in local network\n",
    "local_network_ip = socket.gethostbyname(socket.gethostname())\n",
    "print(local_network_ip)\n",
    "port = 9000\n",
    "#setup osc client\n",
    "client = SimpleUDPClient(local_network_ip, port)\n",
    "#192.168.31.242"
   ]
  },
  {
   "cell_type": "code",
   "execution_count": 28,
   "metadata": {},
   "outputs": [],
   "source": [
    "import requests\n",
    "\n",
    "class GCodeSender:\n",
    "    def __init__(self, ip_address):\n",
    "        self.ip_address = ip_address\n",
    "        self.base_url = f\"http://{self.ip_address}/printer/gcode/script?script=\"\n",
    "\n",
    "    def send_command(self, command):\n",
    "        url = f\"{self.base_url}{command}\"\n",
    "        response = requests.get(url)\n",
    "        if response.status_code == 200:\n",
    "            print(f'Successfully sent command: {command}')\n",
    "            print(response)\n",
    "        else:\n",
    "            print(f'Failed to send command: {command}, Status code: {response.status_code}')\n",
    "\n",
    "# Usage:\n",
    "ip_address = '192.168.31.6'\n",
    "gcode_sender = GCodeSender(ip_address)\n",
    "# gcode_sender.send_command('G1 X10 Y10 Z10')\n"
   ]
  },
  {
   "cell_type": "code",
   "execution_count": 19,
   "metadata": {},
   "outputs": [
    {
     "name": "stdout",
     "output_type": "stream",
     "text": [
      "Successfully sent command: M400\n",
      "{\"result\": \"ok\"}\n",
      "Successfully sent command: G1 X10 Y10 Z10\n",
      "{\"result\": \"ok\"}\n",
      "Successfully sent command: M400\n",
      "{\"result\": \"ok\"}\n"
     ]
    }
   ],
   "source": [
    "gcode_sender.send_command('M400') # wait for all moves to finish\n",
    "gcode_sender.send_command('G1 X10 Y10 Z10')\n",
    "gcode_sender.send_command('M400') # wait for all moves to finish"
   ]
  },
  {
   "cell_type": "code",
   "execution_count": 36,
   "metadata": {},
   "outputs": [
    {
     "name": "stdout",
     "output_type": "stream",
     "text": [
      "Successfully sent command: G91\n",
      "<Response [200]>\n",
      "Successfully sent command: G1 Z1 F1000\n",
      "<Response [200]>\n",
      "Successfully sent command: G91\n",
      "<Response [200]>\n",
      "Successfully sent command: G1 Z1 F1000\n",
      "<Response [200]>\n",
      "Successfully sent command: G91\n",
      "<Response [200]>\n",
      "Successfully sent command: G1 Z1 F1000\n",
      "<Response [200]>\n",
      "Successfully sent command: G91\n",
      "<Response [200]>\n",
      "Successfully sent command: G1 Z1 F1000\n",
      "<Response [200]>\n",
      "Successfully sent command: G91\n",
      "<Response [200]>\n",
      "Successfully sent command: G1 Z1 F1000\n",
      "<Response [200]>\n",
      "Successfully sent command: G91\n",
      "<Response [200]>\n",
      "Successfully sent command: G1 Z1 F1000\n",
      "<Response [200]>\n",
      "Successfully sent command: G91\n",
      "<Response [200]>\n",
      "Successfully sent command: G1 Z1 F1000\n",
      "<Response [200]>\n",
      "Successfully sent command: G91\n",
      "<Response [200]>\n",
      "Successfully sent command: G1 Z1 F1000\n",
      "<Response [200]>\n",
      "Successfully sent command: G91\n",
      "<Response [200]>\n",
      "Successfully sent command: G1 Z1 F1000\n",
      "<Response [200]>\n",
      "Successfully sent command: G91\n",
      "<Response [200]>\n",
      "Successfully sent command: G1 Z1 F1000\n",
      "<Response [200]>\n",
      "test  310.24 ms\n"
     ]
    }
   ],
   "source": [
    "import time\n",
    "#time the execution of a function\n",
    "def timeit(method):\n",
    "    def timed(*args, **kw):\n",
    "        ts = time.time()\n",
    "        result = method(*args, **kw)\n",
    "        te = time.time()  \n",
    "        print(f'{method.__name__}  {round((te - ts)*1000, 2)} ms')\n",
    "        return result\n",
    "    return timed\n",
    "\n",
    "def test():\n",
    "    for i in range(10):\n",
    "        gcode_sender.send_command('G91') # relative positioning\n",
    "        gcode_sender.send_command('G1 Z1 F1000') # move up 1mm\n",
    "timeit(test)()"
   ]
  },
  {
   "cell_type": "code",
   "execution_count": 29,
   "metadata": {},
   "outputs": [
    {
     "name": "stdout",
     "output_type": "stream",
     "text": [
      "Successfully sent command: QUERY_PROBE\n",
      "<Response [200]>\n"
     ]
    }
   ],
   "source": [
    "gcode_sender.send_command('QUERY_PROBE') # wait for all moves to finish"
   ]
  },
  {
   "cell_type": "code",
   "execution_count": 44,
   "metadata": {},
   "outputs": [
    {
     "name": "stdout",
     "output_type": "stream",
     "text": [
      "Available serial ports:\n",
      "COM7: Serielles USB-Gerät (COM7) [USB VID:PID=0483:5740 SER=204A398F5542 LOCATION=1-2.1]\n"
     ]
    }
   ],
   "source": [
    "import serial\n",
    "import serial.tools.list_ports\n",
    "\n",
    "ports = serial.tools.list_ports.comports()\n",
    "\n",
    "print('Available serial ports:')\n",
    "for port, desc, hwid in sorted(ports):\n",
    "    print(\"{}: {} [{}]\".format(port, desc, hwid))\n",
    "#connect to the first available serial port\n",
    "ser = serial.Serial(ports[0].device, 115200, timeout=1)\n",
    "ser.flush()\n",
    "\n",
    "\n",
    "\n"
   ]
  },
  {
   "cell_type": "code",
   "execution_count": null,
   "metadata": {},
   "outputs": [],
   "source": []
  },
  {
   "cell_type": "code",
   "execution_count": null,
   "metadata": {},
   "outputs": [],
   "source": [
    "#create a serial connection\n"
   ]
  },
  {
   "cell_type": "code",
   "execution_count": null,
   "metadata": {},
   "outputs": [],
   "source": [
    "QUERY_PROBE"
   ]
  },
  {
   "cell_type": "code",
   "execution_count": 20,
   "metadata": {},
   "outputs": [
    {
     "name": "stdout",
     "output_type": "stream",
     "text": [
      "Successfully sent command: M400\n",
      "{\"result\": \"ok\"}\n",
      "Successfully sent command: G1 X100 Y100 Z100\n",
      "{\"result\": \"ok\"}\n",
      "Successfully sent command: M400\n",
      "{\"result\": \"ok\"}\n"
     ]
    }
   ],
   "source": [
    "gcode_sender.send_command('M400') # wait for all moves to finish\n",
    "gcode_sender.send_command('G1 X100 Y100 Z100')\n",
    "gcode_sender.send_command('M400') # wait for all moves to finish\n",
    "\n"
   ]
  },
  {
   "cell_type": "code",
   "execution_count": 2,
   "metadata": {},
   "outputs": [],
   "source": [
    "class Vector3():\n",
    "    \n",
    "    def __init__(self, x: float, y: float, z: float):\n",
    "        \"\"\"\n",
    "        Creates a Vector3 instance.\n",
    "        \n",
    "        Parameters:\n",
    "        x (float): X coordinate.\n",
    "        y (float): Y coordinate.\n",
    "        z (float): Z coordinate.\n",
    "        \"\"\"\n",
    "        self.x = x\n",
    "        self.y = y\n",
    "        self.z = z\n",
    "        \n",
    "    def to_vector(self) -> list:\n",
    "        return (self.x, self.y, self.z)\n",
    "    \n",
    "    def rotate_y(self, angle_deg: float) -> 'Vector3':\n",
    "        import math\n",
    "        angle_rad = math.radians(angle_deg)\n",
    "        new_x = self.x * math.cos(angle_rad) - self.z * math.sin(angle_rad)\n",
    "        new_z = self.x * math.sin(angle_rad) + self.z * math.cos(angle_rad)\n",
    "        return Vector3(new_x, self.y, new_z)\n",
    "    \n",
    "    "
   ]
  },
  {
   "cell_type": "markdown",
   "metadata": {},
   "source": [
    "ID\tName\tDesignator\tFootprint\tQuantity\tManufacturer Part\tManufacturer\tSupplier\tSupplier Part\tPrice\n",
    "1\t1N5817\tD3,D4\tDO-41_BD2.4-L4.7-P8.70-D0.9-FD\t2\t1N5817\tMDD\tLCSC\tC3062\t0.017\n",
    "2\tHDR-F-2.54_1x4\tH1,H2\tHDR-F-2.54_1X4\t2\t\t\tLCSC\tC225501\t0.071\n",
    "3\tHDR-F-2.54_1x2\tH3\tHDR-F-2.54_1X2\t1\t\t\tLCSC\tC49661\t0.035\n",
    "4\tLED-TH-3mm_R\tLED1,LED2,LED3\tLED-TH_BD3.0_RED\t3\t204-10SDRD/S530-A3-L\tEVERLIGHT(台湾亿光)\tLCSC\tC84774\t0.031\n",
    "5\t180k\tR1\tR0805\t1\t\t\t\t\t\n",
    "6\t80Ω\tR2,R3,R4\tR0805\t3\tERJ6ENF32R4V\tPANASONIC(松下)\tLCSC\tC410006\t0.01\n",
    "7\tSK12D07VG3_C431547\tSW1\tSW-TH_SK12D07VG3\t1\tSK12D07VG3\tSHOU HAN\tLCSC\tC431547\t0.017\n",
    "8\tWEMOS D1 MINI\tU1\tWEMOS D1 MINI\t1\tWemos_D1_mini_Pro4\tLolin\tLCSC\tC2837266\t\n",
    "9\tBMI160_Module\tU2,U4\tBMI160_MODULE\t2\tBMI160\t\tHwayeh\t\t\n",
    "10\tCharging Board IP2312\tU3\tIP2312\t1\t\t\t\t\t\n"
   ]
  },
  {
   "cell_type": "markdown",
   "metadata": {},
   "source": []
  },
  {
   "cell_type": "code",
   "execution_count": 1,
   "metadata": {},
   "outputs": [
    {
     "ename": "UnicodeDecodeError",
     "evalue": "'utf-8' codec can't decode byte 0xff in position 0: invalid start byte",
     "output_type": "error",
     "traceback": [
      "\u001b[1;31m---------------------------------------------------------------------------\u001b[0m",
      "\u001b[1;31mUnicodeDecodeError\u001b[0m                        Traceback (most recent call last)",
      "Cell \u001b[1;32mIn[1], line 4\u001b[0m\n\u001b[0;32m      1\u001b[0m \u001b[38;5;28;01mimport\u001b[39;00m \u001b[38;5;21;01mpandas\u001b[39;00m\n\u001b[0;32m      2\u001b[0m file \u001b[38;5;241m=\u001b[39m \u001b[38;5;124mr\u001b[39m\u001b[38;5;124m'\u001b[39m\u001b[38;5;124mD:\u001b[39m\u001b[38;5;124m\\\u001b[39m\u001b[38;5;124mtemp\u001b[39m\u001b[38;5;124m\\\u001b[39m\u001b[38;5;124mBOM_motion-fusion_2023-12-10.csv\u001b[39m\u001b[38;5;124m'\u001b[39m\n\u001b[1;32m----> 4\u001b[0m df \u001b[38;5;241m=\u001b[39m \u001b[43mpandas\u001b[49m\u001b[38;5;241;43m.\u001b[39;49m\u001b[43mread_csv\u001b[49m\u001b[43m(\u001b[49m\u001b[43mfile\u001b[49m\u001b[43m)\u001b[49m\n\u001b[0;32m      6\u001b[0m display(df)\n",
      "File \u001b[1;32mc:\\Python311\\Lib\\site-packages\\pandas\\util\\_decorators.py:211\u001b[0m, in \u001b[0;36mdeprecate_kwarg.<locals>._deprecate_kwarg.<locals>.wrapper\u001b[1;34m(*args, **kwargs)\u001b[0m\n\u001b[0;32m    209\u001b[0m     \u001b[38;5;28;01melse\u001b[39;00m:\n\u001b[0;32m    210\u001b[0m         kwargs[new_arg_name] \u001b[38;5;241m=\u001b[39m new_arg_value\n\u001b[1;32m--> 211\u001b[0m \u001b[38;5;28;01mreturn\u001b[39;00m \u001b[43mfunc\u001b[49m\u001b[43m(\u001b[49m\u001b[38;5;241;43m*\u001b[39;49m\u001b[43margs\u001b[49m\u001b[43m,\u001b[49m\u001b[43m \u001b[49m\u001b[38;5;241;43m*\u001b[39;49m\u001b[38;5;241;43m*\u001b[39;49m\u001b[43mkwargs\u001b[49m\u001b[43m)\u001b[49m\n",
      "File \u001b[1;32mc:\\Python311\\Lib\\site-packages\\pandas\\util\\_decorators.py:331\u001b[0m, in \u001b[0;36mdeprecate_nonkeyword_arguments.<locals>.decorate.<locals>.wrapper\u001b[1;34m(*args, **kwargs)\u001b[0m\n\u001b[0;32m    325\u001b[0m \u001b[38;5;28;01mif\u001b[39;00m \u001b[38;5;28mlen\u001b[39m(args) \u001b[38;5;241m>\u001b[39m num_allow_args:\n\u001b[0;32m    326\u001b[0m     warnings\u001b[38;5;241m.\u001b[39mwarn(\n\u001b[0;32m    327\u001b[0m         msg\u001b[38;5;241m.\u001b[39mformat(arguments\u001b[38;5;241m=\u001b[39m_format_argument_list(allow_args)),\n\u001b[0;32m    328\u001b[0m         \u001b[38;5;167;01mFutureWarning\u001b[39;00m,\n\u001b[0;32m    329\u001b[0m         stacklevel\u001b[38;5;241m=\u001b[39mfind_stack_level(),\n\u001b[0;32m    330\u001b[0m     )\n\u001b[1;32m--> 331\u001b[0m \u001b[38;5;28;01mreturn\u001b[39;00m \u001b[43mfunc\u001b[49m\u001b[43m(\u001b[49m\u001b[38;5;241;43m*\u001b[39;49m\u001b[43margs\u001b[49m\u001b[43m,\u001b[49m\u001b[43m \u001b[49m\u001b[38;5;241;43m*\u001b[39;49m\u001b[38;5;241;43m*\u001b[39;49m\u001b[43mkwargs\u001b[49m\u001b[43m)\u001b[49m\n",
      "File \u001b[1;32mc:\\Python311\\Lib\\site-packages\\pandas\\io\\parsers\\readers.py:950\u001b[0m, in \u001b[0;36mread_csv\u001b[1;34m(filepath_or_buffer, sep, delimiter, header, names, index_col, usecols, squeeze, prefix, mangle_dupe_cols, dtype, engine, converters, true_values, false_values, skipinitialspace, skiprows, skipfooter, nrows, na_values, keep_default_na, na_filter, verbose, skip_blank_lines, parse_dates, infer_datetime_format, keep_date_col, date_parser, dayfirst, cache_dates, iterator, chunksize, compression, thousands, decimal, lineterminator, quotechar, quoting, doublequote, escapechar, comment, encoding, encoding_errors, dialect, error_bad_lines, warn_bad_lines, on_bad_lines, delim_whitespace, low_memory, memory_map, float_precision, storage_options)\u001b[0m\n\u001b[0;32m    935\u001b[0m kwds_defaults \u001b[38;5;241m=\u001b[39m _refine_defaults_read(\n\u001b[0;32m    936\u001b[0m     dialect,\n\u001b[0;32m    937\u001b[0m     delimiter,\n\u001b[1;32m   (...)\u001b[0m\n\u001b[0;32m    946\u001b[0m     defaults\u001b[38;5;241m=\u001b[39m{\u001b[38;5;124m\"\u001b[39m\u001b[38;5;124mdelimiter\u001b[39m\u001b[38;5;124m\"\u001b[39m: \u001b[38;5;124m\"\u001b[39m\u001b[38;5;124m,\u001b[39m\u001b[38;5;124m\"\u001b[39m},\n\u001b[0;32m    947\u001b[0m )\n\u001b[0;32m    948\u001b[0m kwds\u001b[38;5;241m.\u001b[39mupdate(kwds_defaults)\n\u001b[1;32m--> 950\u001b[0m \u001b[38;5;28;01mreturn\u001b[39;00m \u001b[43m_read\u001b[49m\u001b[43m(\u001b[49m\u001b[43mfilepath_or_buffer\u001b[49m\u001b[43m,\u001b[49m\u001b[43m \u001b[49m\u001b[43mkwds\u001b[49m\u001b[43m)\u001b[49m\n",
      "File \u001b[1;32mc:\\Python311\\Lib\\site-packages\\pandas\\io\\parsers\\readers.py:605\u001b[0m, in \u001b[0;36m_read\u001b[1;34m(filepath_or_buffer, kwds)\u001b[0m\n\u001b[0;32m    602\u001b[0m _validate_names(kwds\u001b[38;5;241m.\u001b[39mget(\u001b[38;5;124m\"\u001b[39m\u001b[38;5;124mnames\u001b[39m\u001b[38;5;124m\"\u001b[39m, \u001b[38;5;28;01mNone\u001b[39;00m))\n\u001b[0;32m    604\u001b[0m \u001b[38;5;66;03m# Create the parser.\u001b[39;00m\n\u001b[1;32m--> 605\u001b[0m parser \u001b[38;5;241m=\u001b[39m \u001b[43mTextFileReader\u001b[49m\u001b[43m(\u001b[49m\u001b[43mfilepath_or_buffer\u001b[49m\u001b[43m,\u001b[49m\u001b[43m \u001b[49m\u001b[38;5;241;43m*\u001b[39;49m\u001b[38;5;241;43m*\u001b[39;49m\u001b[43mkwds\u001b[49m\u001b[43m)\u001b[49m\n\u001b[0;32m    607\u001b[0m \u001b[38;5;28;01mif\u001b[39;00m chunksize \u001b[38;5;129;01mor\u001b[39;00m iterator:\n\u001b[0;32m    608\u001b[0m     \u001b[38;5;28;01mreturn\u001b[39;00m parser\n",
      "File \u001b[1;32mc:\\Python311\\Lib\\site-packages\\pandas\\io\\parsers\\readers.py:1442\u001b[0m, in \u001b[0;36mTextFileReader.__init__\u001b[1;34m(self, f, engine, **kwds)\u001b[0m\n\u001b[0;32m   1439\u001b[0m     \u001b[38;5;28mself\u001b[39m\u001b[38;5;241m.\u001b[39moptions[\u001b[38;5;124m\"\u001b[39m\u001b[38;5;124mhas_index_names\u001b[39m\u001b[38;5;124m\"\u001b[39m] \u001b[38;5;241m=\u001b[39m kwds[\u001b[38;5;124m\"\u001b[39m\u001b[38;5;124mhas_index_names\u001b[39m\u001b[38;5;124m\"\u001b[39m]\n\u001b[0;32m   1441\u001b[0m \u001b[38;5;28mself\u001b[39m\u001b[38;5;241m.\u001b[39mhandles: IOHandles \u001b[38;5;241m|\u001b[39m \u001b[38;5;28;01mNone\u001b[39;00m \u001b[38;5;241m=\u001b[39m \u001b[38;5;28;01mNone\u001b[39;00m\n\u001b[1;32m-> 1442\u001b[0m \u001b[38;5;28mself\u001b[39m\u001b[38;5;241m.\u001b[39m_engine \u001b[38;5;241m=\u001b[39m \u001b[38;5;28;43mself\u001b[39;49m\u001b[38;5;241;43m.\u001b[39;49m\u001b[43m_make_engine\u001b[49m\u001b[43m(\u001b[49m\u001b[43mf\u001b[49m\u001b[43m,\u001b[49m\u001b[43m \u001b[49m\u001b[38;5;28;43mself\u001b[39;49m\u001b[38;5;241;43m.\u001b[39;49m\u001b[43mengine\u001b[49m\u001b[43m)\u001b[49m\n",
      "File \u001b[1;32mc:\\Python311\\Lib\\site-packages\\pandas\\io\\parsers\\readers.py:1753\u001b[0m, in \u001b[0;36mTextFileReader._make_engine\u001b[1;34m(self, f, engine)\u001b[0m\n\u001b[0;32m   1750\u001b[0m     \u001b[38;5;28;01mraise\u001b[39;00m \u001b[38;5;167;01mValueError\u001b[39;00m(msg)\n\u001b[0;32m   1752\u001b[0m \u001b[38;5;28;01mtry\u001b[39;00m:\n\u001b[1;32m-> 1753\u001b[0m     \u001b[38;5;28;01mreturn\u001b[39;00m \u001b[43mmapping\u001b[49m\u001b[43m[\u001b[49m\u001b[43mengine\u001b[49m\u001b[43m]\u001b[49m\u001b[43m(\u001b[49m\u001b[43mf\u001b[49m\u001b[43m,\u001b[49m\u001b[43m \u001b[49m\u001b[38;5;241;43m*\u001b[39;49m\u001b[38;5;241;43m*\u001b[39;49m\u001b[38;5;28;43mself\u001b[39;49m\u001b[38;5;241;43m.\u001b[39;49m\u001b[43moptions\u001b[49m\u001b[43m)\u001b[49m\n\u001b[0;32m   1754\u001b[0m \u001b[38;5;28;01mexcept\u001b[39;00m \u001b[38;5;167;01mException\u001b[39;00m:\n\u001b[0;32m   1755\u001b[0m     \u001b[38;5;28;01mif\u001b[39;00m \u001b[38;5;28mself\u001b[39m\u001b[38;5;241m.\u001b[39mhandles \u001b[38;5;129;01mis\u001b[39;00m \u001b[38;5;129;01mnot\u001b[39;00m \u001b[38;5;28;01mNone\u001b[39;00m:\n",
      "File \u001b[1;32mc:\\Python311\\Lib\\site-packages\\pandas\\io\\parsers\\c_parser_wrapper.py:79\u001b[0m, in \u001b[0;36mCParserWrapper.__init__\u001b[1;34m(self, src, **kwds)\u001b[0m\n\u001b[0;32m     76\u001b[0m     kwds\u001b[38;5;241m.\u001b[39mpop(key, \u001b[38;5;28;01mNone\u001b[39;00m)\n\u001b[0;32m     78\u001b[0m kwds[\u001b[38;5;124m\"\u001b[39m\u001b[38;5;124mdtype\u001b[39m\u001b[38;5;124m\"\u001b[39m] \u001b[38;5;241m=\u001b[39m ensure_dtype_objs(kwds\u001b[38;5;241m.\u001b[39mget(\u001b[38;5;124m\"\u001b[39m\u001b[38;5;124mdtype\u001b[39m\u001b[38;5;124m\"\u001b[39m, \u001b[38;5;28;01mNone\u001b[39;00m))\n\u001b[1;32m---> 79\u001b[0m \u001b[38;5;28mself\u001b[39m\u001b[38;5;241m.\u001b[39m_reader \u001b[38;5;241m=\u001b[39m \u001b[43mparsers\u001b[49m\u001b[38;5;241;43m.\u001b[39;49m\u001b[43mTextReader\u001b[49m\u001b[43m(\u001b[49m\u001b[43msrc\u001b[49m\u001b[43m,\u001b[49m\u001b[43m \u001b[49m\u001b[38;5;241;43m*\u001b[39;49m\u001b[38;5;241;43m*\u001b[39;49m\u001b[43mkwds\u001b[49m\u001b[43m)\u001b[49m\n\u001b[0;32m     81\u001b[0m \u001b[38;5;28mself\u001b[39m\u001b[38;5;241m.\u001b[39munnamed_cols \u001b[38;5;241m=\u001b[39m \u001b[38;5;28mself\u001b[39m\u001b[38;5;241m.\u001b[39m_reader\u001b[38;5;241m.\u001b[39munnamed_cols\n\u001b[0;32m     83\u001b[0m \u001b[38;5;66;03m# error: Cannot determine type of 'names'\u001b[39;00m\n",
      "File \u001b[1;32mc:\\Python311\\Lib\\site-packages\\pandas\\_libs\\parsers.pyx:547\u001b[0m, in \u001b[0;36mpandas._libs.parsers.TextReader.__cinit__\u001b[1;34m()\u001b[0m\n",
      "File \u001b[1;32mc:\\Python311\\Lib\\site-packages\\pandas\\_libs\\parsers.pyx:636\u001b[0m, in \u001b[0;36mpandas._libs.parsers.TextReader._get_header\u001b[1;34m()\u001b[0m\n",
      "File \u001b[1;32mc:\\Python311\\Lib\\site-packages\\pandas\\_libs\\parsers.pyx:852\u001b[0m, in \u001b[0;36mpandas._libs.parsers.TextReader._tokenize_rows\u001b[1;34m()\u001b[0m\n",
      "File \u001b[1;32mc:\\Python311\\Lib\\site-packages\\pandas\\_libs\\parsers.pyx:1965\u001b[0m, in \u001b[0;36mpandas._libs.parsers.raise_parser_error\u001b[1;34m()\u001b[0m\n",
      "\u001b[1;31mUnicodeDecodeError\u001b[0m: 'utf-8' codec can't decode byte 0xff in position 0: invalid start byte"
     ]
    }
   ],
   "source": [
    "import pandas\n",
    "file = r'D:\\temp\\BOM_motion-fusion_2023-12-10.csv'\n",
    "\n",
    "df = pandas.read_csv(file)\n",
    "\n",
    "display(df)"
   ]
  },
  {
   "cell_type": "code",
   "execution_count": 3,
   "metadata": {},
   "outputs": [],
   "source": [
    "osc_addresses = {\n",
    "    \"head\": {\n",
    "        \"position\": \"/tracking/trackers/head/position\",\n",
    "        \"rotation\": \"/tracking/trackers/head/rotation\"\n",
    "    },\n",
    "    \"tracker1\": {\n",
    "        \"position\": \"/tracking/trackers/1/position\",\n",
    "        \"rotation\": \"/tracking/trackers/1/rotation\"\n",
    "    },\n",
    "    \"tracker2\": {\n",
    "        \"position\": \"/tracking/trackers/2/position\",\n",
    "        \"rotation\": \"/tracking/trackers/2/rotation\"\n",
    "    },\n",
    "    \"tracker3\": {\n",
    "        \"position\": \"/tracking/trackers/3/position\",\n",
    "        \"rotation\": \"/tracking/trackers/3/rotation\"\n",
    "    },\n",
    "    \"tracker4\": {\n",
    "        \"position\": \"/tracking/trackers/4/position\",\n",
    "        \"rotation\": \"/tracking/trackers/4/rotation\"\n",
    "    },\n",
    "    \"tracker5\": {\n",
    "        \"position\": \"/tracking/trackers/5/position\",\n",
    "        \"rotation\": \"/tracking/trackers/5/rotation\"\n",
    "    },\n",
    "    \"tracker6\": {\n",
    "        \"position\": \"/tracking/trackers/6/position\",\n",
    "        \"rotation\": \"/tracking/trackers/6/rotation\"\n",
    "    },\n",
    "    \"tracker7\": {\n",
    "        \"position\": \"/tracking/trackers/7/position\",\n",
    "        \"rotation\": \"/tracking/trackers/7/rotation\"\n",
    "    },\n",
    "    \"tracker8\": {\n",
    "        \"position\": \"/tracking/trackers/8/position\",\n",
    "        \"rotation\": \"/tracking/trackers/8/rotation\"\n",
    "    }\n",
    "}"
   ]
  },
  {
   "cell_type": "code",
   "execution_count": 4,
   "metadata": {},
   "outputs": [],
   "source": [
    "\n",
    "tracker_initial_pose = {\n",
    "    \"head\": {\n",
    "        \"position\": Vector3 (0.0, -0.1, -0.1),\n",
    "        \"rotation\": Vector3 (0.0, 0.0, 0.0)\n",
    "    },\n",
    "    \"tracker1\": {\n",
    "        \"position\": Vector3 (0.007038268726319075, -0.4179477095603943, -0.13543081283569336),\n",
    "        \"rotation\": Vector3 (6.355330944061279, 0.14127297699451447, 1.275995135307312)\n",
    "    },\n",
    "    \"tracker2\": {\n",
    "        \"position\": Vector3 (-0.027461811900138855, -0.5279591679573059, 0.07506200671195984),\n",
    "        \"rotation\": Vector3 (-56.81068801879883, 28.648338317871094, -33.136802673339844)\n",
    "    }\n",
    "    \n",
    "}\n",
    "        \n",
    "\n",
    "\n"
   ]
  },
  {
   "cell_type": "code",
   "execution_count": 5,
   "metadata": {},
   "outputs": [
    {
     "ename": "KeyboardInterrupt",
     "evalue": "",
     "output_type": "error",
     "traceback": [
      "\u001b[1;31m---------------------------------------------------------------------------\u001b[0m",
      "\u001b[1;31mKeyboardInterrupt\u001b[0m                         Traceback (most recent call last)",
      "\u001b[1;32md:\\data-fusion\\notebooks\\osc-test\\osc-text.ipynb Cell 5\u001b[0m line \u001b[0;36m3\n\u001b[0;32m      <a href='vscode-notebook-cell:/d%3A/data-fusion/notebooks/osc-test/osc-text.ipynb#W4sZmlsZQ%3D%3D?line=0'>1</a>\u001b[0m \u001b[39mfor\u001b[39;00m i \u001b[39min\u001b[39;00m \u001b[39mrange\u001b[39m(\u001b[39m60\u001b[39m \u001b[39m*\u001b[39m \u001b[39m5\u001b[39m):\n\u001b[0;32m      <a href='vscode-notebook-cell:/d%3A/data-fusion/notebooks/osc-test/osc-text.ipynb#W4sZmlsZQ%3D%3D?line=1'>2</a>\u001b[0m     \u001b[39mfor\u001b[39;00m d \u001b[39min\u001b[39;00m \u001b[39mrange\u001b[39m(\u001b[39m10\u001b[39m):\n\u001b[1;32m----> <a href='vscode-notebook-cell:/d%3A/data-fusion/notebooks/osc-test/osc-text.ipynb#W4sZmlsZQ%3D%3D?line=2'>3</a>\u001b[0m         time\u001b[39m.\u001b[39msleep(\u001b[39m0.1\u001b[39m)\n\u001b[0;32m      <a href='vscode-notebook-cell:/d%3A/data-fusion/notebooks/osc-test/osc-text.ipynb#W4sZmlsZQ%3D%3D?line=3'>4</a>\u001b[0m         client\u001b[39m.\u001b[39msend_message(osc_addresses[\u001b[39m\"\u001b[39m\u001b[39mhead\u001b[39m\u001b[39m\"\u001b[39m][\u001b[39m\"\u001b[39m\u001b[39mposition\u001b[39m\u001b[39m\"\u001b[39m], tracker_initial_pose[\u001b[39m\"\u001b[39m\u001b[39mhead\u001b[39m\u001b[39m\"\u001b[39m][\u001b[39m\"\u001b[39m\u001b[39mposition\u001b[39m\u001b[39m\"\u001b[39m]\u001b[39m.\u001b[39mto_vector())\n\u001b[0;32m      <a href='vscode-notebook-cell:/d%3A/data-fusion/notebooks/osc-test/osc-text.ipynb#W4sZmlsZQ%3D%3D?line=4'>5</a>\u001b[0m         client\u001b[39m.\u001b[39msend_message(osc_addresses[\u001b[39m\"\u001b[39m\u001b[39mhead\u001b[39m\u001b[39m\"\u001b[39m][\u001b[39m\"\u001b[39m\u001b[39mrotation\u001b[39m\u001b[39m\"\u001b[39m], tracker_initial_pose[\u001b[39m\"\u001b[39m\u001b[39mhead\u001b[39m\u001b[39m\"\u001b[39m][\u001b[39m\"\u001b[39m\u001b[39mrotation\u001b[39m\u001b[39m\"\u001b[39m]\u001b[39m.\u001b[39mto_vector())\n",
      "\u001b[1;31mKeyboardInterrupt\u001b[0m: "
     ]
    }
   ],
   "source": [
    "for i in range(60 * 5):\n",
    "    for d in range(10):\n",
    "        time.sleep(0.1)\n",
    "        client.send_message(osc_addresses[\"head\"][\"position\"], tracker_initial_pose[\"head\"][\"position\"].to_vector())\n",
    "        client.send_message(osc_addresses[\"head\"][\"rotation\"], tracker_initial_pose[\"head\"][\"rotation\"].to_vector())\n",
    "        client.send_message(osc_addresses[\"tracker1\"][\"position\"], tracker_initial_pose[\"tracker1\"][\"position\"].to_vector())\n",
    "        client.send_message(osc_addresses[\"tracker1\"][\"rotation\"], tracker_initial_pose[\"tracker1\"][\"rotation\"].to_vector())\n",
    "        client.send_message(osc_addresses[\"tracker2\"][\"position\"], tracker_initial_pose[\"tracker2\"][\"position\"].to_vector())\n",
    "        client.send_message(osc_addresses[\"tracker2\"][\"rotation\"], tracker_initial_pose[\"tracker2\"][\"rotation\"].to_vector())"
   ]
  },
  {
   "cell_type": "code",
   "execution_count": 330,
   "metadata": {},
   "outputs": [],
   "source": [
    "tracker_initial_pose = {\n",
    "    \"head\": {\n",
    "        \"position\": Vector3 (0.0, 0.0, 0.0),\n",
    "        \"rotation\": Vector3 (0.0, 0.0, 0.0)\n",
    "    },\n",
    "    \"tracker1\": {\n",
    "        \"position\": Vector3 (0.007038268726319075, -0.4179477095603943, -0.13543081283569336),\n",
    "        \"rotation\": Vector3 (6.355330944061279, 0.14127297699451447, 1.275995135307312)\n",
    "    },\n",
    "    \"tracker2\": {\n",
    "        \"position\": Vector3 (-0.027461811900138855, -0.5279591679573059, 0.07506200671195984),\n",
    "        \"rotation\": Vector3 (-56.81068801879883, 28.648338317871094, -33.136802673339844)\n",
    "    }\n",
    "    \n",
    "}\n",
    "\n",
    "client.send_message(osc_addresses[\"head\"][\"position\"], tracker_initial_pose[\"head\"][\"position\"].to_vector())\n",
    "client.send_message(osc_addresses[\"head\"][\"rotation\"], tracker_initial_pose[\"head\"][\"rotation\"].to_vector())\n",
    "client.send_message(osc_addresses[\"tracker1\"][\"position\"], tracker_initial_pose[\"tracker1\"][\"position\"].to_vector())\n",
    "client.send_message(osc_addresses[\"tracker1\"][\"rotation\"], tracker_initial_pose[\"tracker1\"][\"rotation\"].to_vector())\n",
    "client.send_message(osc_addresses[\"tracker2\"][\"position\"], tracker_initial_pose[\"tracker2\"][\"position\"].to_vector())\n",
    "client.send_message(osc_addresses[\"tracker2\"][\"rotation\"], tracker_initial_pose[\"tracker2\"][\"rotation\"].to_vector())\n"
   ]
  },
  {
   "cell_type": "markdown",
   "metadata": {},
   "source": []
  },
  {
   "cell_type": "code",
   "execution_count": null,
   "metadata": {},
   "outputs": [],
   "source": [
    "\n",
    "\n",
    "current_pose = tracker_initial_pose\n",
    "\n",
    "\n",
    "def send_tracker_data(tracker_name: str, position: Vector3, rotation: Vector3) -> None:\n",
    "    client.send_message(osc_addresses[tracker_name][\"position\"], position.to_vector())\n",
    "    client.send_message(osc_addresses[tracker_name][\"rotation\"], rotation.to_vector())\n",
    "\n",
    "def rotate_trackers(duration: float = 15.0, angle_step: float = 0.1) -> None:\n",
    "    start_time = time.time()\n",
    "    while time.time() - start_time < duration:\n",
    "        for tracker_name in [\"tracker1\"]:\n",
    "            # update current pose\n",
    "            current_pose[tracker_name][\"rotation\"].y += angle_step\n",
    "            # send data\n",
    "            send_tracker_data(tracker_name, current_pose[tracker_name][\"position\"], current_pose[tracker_name][\"rotation\"])\n",
    "            time.sleep(0.01)\n",
    "            \n",
    "    # reset pose\n",
    "    for tracker_name in [\"tracker1\"]:\n",
    "        send_tracker_data(tracker_name, tracker_initial_pose[tracker_name][\"position\"], tracker_initial_pose[tracker_name][\"rotation\"])\n",
    "\n",
    "    \n",
    "\n",
    "rotate_trackers()\n"
   ]
  },
  {
   "cell_type": "code",
   "execution_count": null,
   "metadata": {},
   "outputs": [],
   "source": [
    "osc_trackers_pos: str = \"/tracking/trackers/1/position\"\n",
    "osc_trackers_rot: str = \"/tracking/trackers/1/rotation\"\n",
    "client.send_message(osc_trackers_pos, [1.0,2.0,3.0])\n",
    "client.send_message(osc_trackers_rot, [0.1,9.2,0.3]) \n",
    "for i in range(0, 180):\n",
    "    client.send_message(osc_trackers_pos, [1.0,2.0,3.0])\n",
    "    client.send_message(osc_trackers_rot, [0.1,float(i),0.3])\n",
    "    time.sleep(0.1)\n"
   ]
  },
  {
   "cell_type": "code",
   "execution_count": null,
   "metadata": {},
   "outputs": [],
   "source": [
    "# #slowly rotate the tracker\n",
    "for i in range(0, 180):\n",
    "    client.send_message(osc_trackers_pos, [0.0,1.0,0.0])\n",
    "    client.send_message(osc_trackers_rot, [0.0,float(i),0.0])\n",
    "    time.sleep(0.1)"
   ]
  },
  {
   "cell_type": "code",
   "execution_count": null,
   "metadata": {},
   "outputs": [],
   "source": [
    "#get ip in local network\n",
    "local_network_ip = socket.gethostbyname(socket.gethostname())\n",
    "print(local_network_ip)\n",
    "port = 9000"
   ]
  },
  {
   "cell_type": "code",
   "execution_count": null,
   "metadata": {},
   "outputs": [],
   "source": [
    "#setup osc client\n",
    "client = SimpleUDPClient(local_network_ip, port)\n",
    "#send to text osc server\n",
    "client.send_message(\"/text\", \"Hello World\")\n",
    "client.send_message(\"/text\", \"Hello World\")"
   ]
  },
  {
   "cell_type": "code",
   "execution_count": null,
   "metadata": {},
   "outputs": [],
   "source": [
    "# possible order of trackers:\n",
    "# hip, chest, 2x feet, 2x knees, 2x elbows (upper arms)\n",
    "\n",
    "osc_addresses = {\n",
    "    \"hip\": {\n",
    "        \"position\": \"/tracking/trackers/1/position\",\n",
    "        \"rotation\": \"/tracking/trackers/1/rotation\"\n",
    "    },\n",
    "    \"chest\": {\n",
    "        \"position\": \"/tracking/trackers/2/position\",\n",
    "        \"rotation\": \"/tracking/trackers/2/rotation\"\n",
    "    },\n",
    "    \"feet_0\": {\n",
    "        \"position\": \"/tracking/trackers/3/position\",\n",
    "        \"rotation\": \"/tracking/trackers/3/rotation\"\n",
    "    },\n",
    "    \"feet_1\": {\n",
    "        \"position\": \"/tracking/trackers/4/position\",\n",
    "        \"rotation\": \"/tracking/trackers/4/rotation\"\n",
    "    },\n",
    "    \"knee_0\": {\n",
    "        \"position\": \"/tracking/trackers/5/position\",\n",
    "        \"rotation\": \"/tracking/trackers/5/rotation\"\n",
    "    },\n",
    "    \"knee_1\": {\n",
    "        \"position\": \"/tracking/trackers/6/position\",\n",
    "        \"rotation\": \"/tracking/trackers/6/rotation\"\n",
    "    },\n",
    "    \"elbow_0\": {\n",
    "        \"position\": \"/tracking/trackers/7/position\",\n",
    "        \"rotation\": \"/tracking/trackers/7/rotation\"\n",
    "    },\n",
    "    \"elbow_1\": {\n",
    "        \"position\": \"/tracking/trackers/8/position\",\n",
    "        \"rotation\": \"/tracking/trackers/8/rotation\"\n",
    "    },\n",
    "    \"head\": {\n",
    "        \"position\": \"/tracking/trackers/head/position\",\n",
    "        \"rotation\": \"/tracking/trackers/head/rotation\"\n",
    "    }\n",
    "}"
   ]
  },
  {
   "cell_type": "code",
   "execution_count": null,
   "metadata": {},
   "outputs": [],
   "source": [
    "Vector3 = [0.0, 180.0, 0.0]\n",
    "for tracker in osc_addresses:\n",
    "    client.send_message(osc_addresses[tracker][\"rotation\"], Vector3)"
   ]
  },
  {
   "cell_type": "code",
   "execution_count": null,
   "metadata": {},
   "outputs": [],
   "source": [
    "\n",
    "osc_addresses = {\n",
    "    \"hip\": {\n",
    "        \"position\": \"/tracking/trackers/1/position\",\n",
    "        \"rotation\": \"/tracking/trackers/1/rotation\"\n",
    "    },\n",
    "    \"chest\": {\n",
    "        \"position\": \"/tracking/trackers/2/position\",\n",
    "        \"rotation\": \"/tracking/trackers/2/rotation\"\n",
    "    },\n",
    "    \"feet_0\": {\n",
    "        \"position\": \"/tracking/trackers/3/position\",\n",
    "        \"rotation\": \"/tracking/trackers/3/rotation\"\n",
    "    },\n",
    "    \"feet_1\": {\n",
    "        \"position\": \"/tracking/trackers/4/position\",\n",
    "        \"rotation\": \"/tracking/trackers/4/rotation\"\n",
    "    },\n",
    "    \"knee_0\": {\n",
    "        \"position\": \"/tracking/trackers/5/position\",\n",
    "        \"rotation\": \"/tracking/trackers/5/rotation\"\n",
    "    },\n",
    "    \"knee_1\": {\n",
    "        \"position\": \"/tracking/trackers/6/position\",\n",
    "        \"rotation\": \"/tracking/trackers/6/rotation\"\n",
    "    },\n",
    "    \"elbow_0\": {\n",
    "        \"position\": \"/tracking/trackers/7/position\",\n",
    "        \"rotation\": \"/tracking/trackers/7/rotation\"\n",
    "    },\n",
    "    \"elbow_1\": {\n",
    "        \"position\": \"/tracking/trackers/8/position\",\n",
    "        \"rotation\": \"/tracking/trackers/8/rotation\"\n",
    "    },\n",
    "    \"head\": {\n",
    "        \"position\": \"/tracking/trackers/head/position\",\n",
    "        \"rotation\": \"/tracking/trackers/head/rotation\"\n",
    "    }\n",
    "}"
   ]
  },
  {
   "cell_type": "code",
   "execution_count": null,
   "metadata": {},
   "outputs": [],
   "source": [
    "#iterate through all trackers\n",
    "for tracker in osc_addresses:\n",
    "    if tracker == \"head\":\n",
    "        \n",
    "        client.send_message(\"/chatbox/input\", [tracker, True]) # Send message with text and True for enter\n",
    "        time.sleep(5)\n",
    "        for i in range(180, -180, -1):\n",
    "            Vector3 = [0.0, float(i), 0.0]\n",
    "            client.send_message(osc_addresses[tracker][\"rotation\"], Vector3)\n",
    "            time.sleep(0.01)\n",
    "        time.sleep(1)\n",
    "    "
   ]
  },
  {
   "cell_type": "code",
   "execution_count": null,
   "metadata": {},
   "outputs": [],
   "source": [
    "client.send_message(osc_addresses[\"chest\"][\"rotation\"],  [0.0, -180, 0.0])"
   ]
  },
  {
   "cell_type": "code",
   "execution_count": null,
   "metadata": {},
   "outputs": [],
   "source": [
    "192.168.31.228"
   ]
  }
 ],
 "metadata": {
  "kernelspec": {
   "display_name": "Python 3",
   "language": "python",
   "name": "python3"
  },
  "language_info": {
   "codemirror_mode": {
    "name": "ipython",
    "version": 3
   },
   "file_extension": ".py",
   "mimetype": "text/x-python",
   "name": "python",
   "nbconvert_exporter": "python",
   "pygments_lexer": "ipython3",
   "version": "3.11.0"
  },
  "orig_nbformat": 4
 },
 "nbformat": 4,
 "nbformat_minor": 2
}
