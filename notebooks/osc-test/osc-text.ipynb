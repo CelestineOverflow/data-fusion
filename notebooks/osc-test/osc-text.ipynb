{
 "cells": [
  {
   "cell_type": "code",
   "execution_count": 66,
   "metadata": {},
   "outputs": [],
   "source": [
    "from pythonosc.udp_client import SimpleUDPClient\n",
    "import time\n",
    "\n",
    "ip = \"192.168.31.227\"  # IP address of the OSC server VRchat is listening on quest\n",
    "port = 9000  # Port VRchat is listening on quest\n",
    "\n",
    "client = SimpleUDPClient(ip, port)  # Create client\n",
    "text = \"Hello from Python\"\n",
    "client.send_message(\"/chatbox/input\", [text, True]) # Send message with text and True for enter"
   ]
  },
  {
   "cell_type": "code",
   "execution_count": 67,
   "metadata": {},
   "outputs": [],
   "source": [
    "# possible order of trackers:\n",
    "# hip, chest, 2x feet, 2x knees, 2x elbows (upper arms)\n",
    "\n",
    "osc_addresses = {\n",
    "    \"hip\": {\n",
    "        \"position\": \"/tracking/trackers/1/position\",\n",
    "        \"rotation\": \"/tracking/trackers/1/rotation\"\n",
    "    },\n",
    "    \"chest\": {\n",
    "        \"position\": \"/tracking/trackers/2/position\",\n",
    "        \"rotation\": \"/tracking/trackers/2/rotation\"\n",
    "    },\n",
    "    \"feet_0\": {\n",
    "        \"position\": \"/tracking/trackers/3/position\",\n",
    "        \"rotation\": \"/tracking/trackers/3/rotation\"\n",
    "    },\n",
    "    \"feet_1\": {\n",
    "        \"position\": \"/tracking/trackers/4/position\",\n",
    "        \"rotation\": \"/tracking/trackers/4/rotation\"\n",
    "    },\n",
    "    \"knee_0\": {\n",
    "        \"position\": \"/tracking/trackers/5/position\",\n",
    "        \"rotation\": \"/tracking/trackers/5/rotation\"\n",
    "    },\n",
    "    \"knee_1\": {\n",
    "        \"position\": \"/tracking/trackers/6/position\",\n",
    "        \"rotation\": \"/tracking/trackers/6/rotation\"\n",
    "    },\n",
    "    \"elbow_0\": {\n",
    "        \"position\": \"/tracking/trackers/7/position\",\n",
    "        \"rotation\": \"/tracking/trackers/7/rotation\"\n",
    "    },\n",
    "    \"elbow_1\": {\n",
    "        \"position\": \"/tracking/trackers/8/position\",\n",
    "        \"rotation\": \"/tracking/trackers/8/rotation\"\n",
    "    },\n",
    "    \"head\": {\n",
    "        \"position\": \"/tracking/trackers/head/position\",\n",
    "        \"rotation\": \"/tracking/trackers/head/rotation\"\n",
    "    }\n",
    "}"
   ]
  },
  {
   "cell_type": "code",
   "execution_count": null,
   "metadata": {},
   "outputs": [],
   "source": [
    "Vector3 = [0.0, 180.0, 0.0]\n",
    "for tracker in osc_addresses:\n",
    "    client.send_message(osc_addresses[tracker][\"rotation\"], Vector3)"
   ]
  },
  {
   "cell_type": "code",
   "execution_count": 72,
   "metadata": {},
   "outputs": [
    {
     "ename": "KeyboardInterrupt",
     "evalue": "",
     "output_type": "error",
     "traceback": [
      "\u001b[1;31m---------------------------------------------------------------------------\u001b[0m",
      "\u001b[1;31mKeyboardInterrupt\u001b[0m                         Traceback (most recent call last)",
      "Cell \u001b[1;32mIn[72], line 12\u001b[0m\n\u001b[0;32m     10\u001b[0m     client\u001b[39m.\u001b[39msend_message(osc_addresses[tracker][\u001b[39m\"\u001b[39m\u001b[39mrotation\u001b[39m\u001b[39m\"\u001b[39m], Vector3)\n\u001b[0;32m     11\u001b[0m     time\u001b[39m.\u001b[39msleep(\u001b[39m0.01\u001b[39m)\n\u001b[1;32m---> 12\u001b[0m time\u001b[39m.\u001b[39msleep(\u001b[39m1\u001b[39m)\n",
      "\u001b[1;31mKeyboardInterrupt\u001b[0m: "
     ]
    }
   ],
   "source": [
    "#iterate through all trackers\n",
    "for tracker in osc_addresses:\n",
    "    #send a message for each tracker\n",
    "    # text = osc_addresses[tracker]\n",
    "    # print(tracker)\n",
    "    client.send_message(\"/chatbox/input\", [tracker, True]) # Send message with text and True for enter\n",
    "    time.sleep(5)\n",
    "    for i in range(180, -180, -1):\n",
    "        Vector3 = [0.0, float(i), 0.0]\n",
    "        client.send_message(osc_addresses[tracker][\"rotation\"], Vector3)\n",
    "        time.sleep(0.01)\n",
    "    time.sleep(1)\n",
    "    "
   ]
  },
  {
   "cell_type": "code",
   "execution_count": 60,
   "metadata": {},
   "outputs": [],
   "source": [
    "client.send_message(osc_addresses[\"chest\"][\"rotation\"],  [0.0, -180, 0.0])"
   ]
  }
 ],
 "metadata": {
  "kernelspec": {
   "display_name": "Python 3",
   "language": "python",
   "name": "python3"
  },
  "language_info": {
   "codemirror_mode": {
    "name": "ipython",
    "version": 3
   },
   "file_extension": ".py",
   "mimetype": "text/x-python",
   "name": "python",
   "nbconvert_exporter": "python",
   "pygments_lexer": "ipython3",
   "version": "3.11.0"
  },
  "orig_nbformat": 4
 },
 "nbformat": 4,
 "nbformat_minor": 2
}
