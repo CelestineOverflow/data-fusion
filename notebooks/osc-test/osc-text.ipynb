{
 "cells": [
  {
   "cell_type": "code",
   "execution_count": 1,
   "metadata": {},
   "outputs": [
    {
     "name": "stdout",
     "output_type": "stream",
     "text": [
      "192.168.31.242\n"
     ]
    }
   ],
   "source": [
    "from pythonosc.udp_client import SimpleUDPClient\n",
    "import time\n",
    "import json\n",
    "import threading\n",
    "import queue\n",
    "import socket\n",
    "from typing import NamedTuple\n",
    "#get ip in local network\n",
    "local_network_ip = socket.gethostbyname(socket.gethostname())\n",
    "print(local_network_ip)\n",
    "port = 9000\n",
    "#setup osc client\n",
    "client = SimpleUDPClient(local_network_ip, port)\n",
    "#192.168.31.242"
   ]
  },
  {
   "cell_type": "code",
   "execution_count": 28,
   "metadata": {},
   "outputs": [],
   "source": [
    "import requests\n",
    "\n",
    "class GCodeSender:\n",
    "    def __init__(self, ip_address):\n",
    "        self.ip_address = ip_address\n",
    "        self.base_url = f\"http://{self.ip_address}/printer/gcode/script?script=\"\n",
    "\n",
    "    def send_command(self, command):\n",
    "        url = f\"{self.base_url}{command}\"\n",
    "        response = requests.get(url)\n",
    "        if response.status_code == 200:\n",
    "            print(f'Successfully sent command: {command}')\n",
    "            print(response)\n",
    "        else:\n",
    "            print(f'Failed to send command: {command}, Status code: {response.status_code}')\n",
    "\n",
    "# Usage:\n",
    "ip_address = '192.168.31.6'\n",
    "gcode_sender = GCodeSender(ip_address)\n",
    "# gcode_sender.send_command('G1 X10 Y10 Z10')\n"
   ]
  },
  {
   "cell_type": "code",
   "execution_count": 19,
   "metadata": {},
   "outputs": [
    {
     "name": "stdout",
     "output_type": "stream",
     "text": [
      "Successfully sent command: M400\n",
      "{\"result\": \"ok\"}\n",
      "Successfully sent command: G1 X10 Y10 Z10\n",
      "{\"result\": \"ok\"}\n",
      "Successfully sent command: M400\n",
      "{\"result\": \"ok\"}\n"
     ]
    }
   ],
   "source": [
    "gcode_sender.send_command('M400') # wait for all moves to finish\n",
    "gcode_sender.send_command('G1 X10 Y10 Z10')\n",
    "gcode_sender.send_command('M400') # wait for all moves to finish"
   ]
  },
  {
   "cell_type": "code",
   "execution_count": 36,
   "metadata": {},
   "outputs": [
    {
     "name": "stdout",
     "output_type": "stream",
     "text": [
      "Successfully sent command: G91\n",
      "<Response [200]>\n",
      "Successfully sent command: G1 Z1 F1000\n",
      "<Response [200]>\n",
      "Successfully sent command: G91\n",
      "<Response [200]>\n",
      "Successfully sent command: G1 Z1 F1000\n",
      "<Response [200]>\n",
      "Successfully sent command: G91\n",
      "<Response [200]>\n",
      "Successfully sent command: G1 Z1 F1000\n",
      "<Response [200]>\n",
      "Successfully sent command: G91\n",
      "<Response [200]>\n",
      "Successfully sent command: G1 Z1 F1000\n",
      "<Response [200]>\n",
      "Successfully sent command: G91\n",
      "<Response [200]>\n",
      "Successfully sent command: G1 Z1 F1000\n",
      "<Response [200]>\n",
      "Successfully sent command: G91\n",
      "<Response [200]>\n",
      "Successfully sent command: G1 Z1 F1000\n",
      "<Response [200]>\n",
      "Successfully sent command: G91\n",
      "<Response [200]>\n",
      "Successfully sent command: G1 Z1 F1000\n",
      "<Response [200]>\n",
      "Successfully sent command: G91\n",
      "<Response [200]>\n",
      "Successfully sent command: G1 Z1 F1000\n",
      "<Response [200]>\n",
      "Successfully sent command: G91\n",
      "<Response [200]>\n",
      "Successfully sent command: G1 Z1 F1000\n",
      "<Response [200]>\n",
      "Successfully sent command: G91\n",
      "<Response [200]>\n",
      "Successfully sent command: G1 Z1 F1000\n",
      "<Response [200]>\n",
      "test  310.24 ms\n"
     ]
    }
   ],
   "source": [
    "import time\n",
    "#time the execution of a function\n",
    "def timeit(method):\n",
    "    def timed(*args, **kw):\n",
    "        ts = time.time()\n",
    "        result = method(*args, **kw)\n",
    "        te = time.time()  \n",
    "        print(f'{method.__name__}  {round((te - ts)*1000, 2)} ms')\n",
    "        return result\n",
    "    return timed\n",
    "\n",
    "def test():\n",
    "    for i in range(10):\n",
    "        gcode_sender.send_command('G91') # relative positioning\n",
    "        gcode_sender.send_command('G1 Z1 F1000') # move up 1mm\n",
    "timeit(test)()"
   ]
  },
  {
   "cell_type": "code",
   "execution_count": 29,
   "metadata": {},
   "outputs": [
    {
     "name": "stdout",
     "output_type": "stream",
     "text": [
      "Successfully sent command: QUERY_PROBE\n",
      "<Response [200]>\n"
     ]
    }
   ],
   "source": [
    "gcode_sender.send_command('QUERY_PROBE') # wait for all moves to finish"
   ]
  },
  {
   "cell_type": "code",
   "execution_count": 44,
   "metadata": {},
   "outputs": [
    {
     "name": "stdout",
     "output_type": "stream",
     "text": [
      "Available serial ports:\n",
      "COM7: Serielles USB-Gerät (COM7) [USB VID:PID=0483:5740 SER=204A398F5542 LOCATION=1-2.1]\n"
     ]
    }
   ],
   "source": [
    "import serial\n",
    "import serial.tools.list_ports\n",
    "\n",
    "ports = serial.tools.list_ports.comports()\n",
    "\n",
    "print('Available serial ports:')\n",
    "for port, desc, hwid in sorted(ports):\n",
    "    print(\"{}: {} [{}]\".format(port, desc, hwid))\n",
    "#connect to the first available serial port\n",
    "ser = serial.Serial(ports[0].device, 115200, timeout=1)\n",
    "ser.flush()\n",
    "\n",
    "\n",
    "\n"
   ]
  },
  {
   "cell_type": "code",
   "execution_count": null,
   "metadata": {},
   "outputs": [],
   "source": []
  },
  {
   "cell_type": "code",
   "execution_count": null,
   "metadata": {},
   "outputs": [],
   "source": [
    "#create a serial connection\n"
   ]
  },
  {
   "cell_type": "code",
   "execution_count": null,
   "metadata": {},
   "outputs": [],
   "source": [
    "QUERY_PROBE"
   ]
  },
  {
   "cell_type": "code",
   "execution_count": 20,
   "metadata": {},
   "outputs": [
    {
     "name": "stdout",
     "output_type": "stream",
     "text": [
      "Successfully sent command: M400\n",
      "{\"result\": \"ok\"}\n",
      "Successfully sent command: G1 X100 Y100 Z100\n",
      "{\"result\": \"ok\"}\n",
      "Successfully sent command: M400\n",
      "{\"result\": \"ok\"}\n"
     ]
    }
   ],
   "source": [
    "gcode_sender.send_command('M400') # wait for all moves to finish\n",
    "gcode_sender.send_command('G1 X100 Y100 Z100')\n",
    "gcode_sender.send_command('M400') # wait for all moves to finish\n",
    "\n"
   ]
  },
  {
   "cell_type": "code",
   "execution_count": 2,
   "metadata": {},
   "outputs": [],
   "source": [
    "class Vector3():\n",
    "    \n",
    "    def __init__(self, x: float, y: float, z: float):\n",
    "        \"\"\"\n",
    "        Creates a Vector3 instance.\n",
    "        \n",
    "        Parameters:\n",
    "        x (float): X coordinate.\n",
    "        y (float): Y coordinate.\n",
    "        z (float): Z coordinate.\n",
    "        \"\"\"\n",
    "        self.x = x\n",
    "        self.y = y\n",
    "        self.z = z\n",
    "        \n",
    "    def to_vector(self) -> list:\n",
    "        return (self.x, self.y, self.z)\n",
    "    \n",
    "    def rotate_y(self, angle_deg: float) -> 'Vector3':\n",
    "        import math\n",
    "        angle_rad = math.radians(angle_deg)\n",
    "        new_x = self.x * math.cos(angle_rad) - self.z * math.sin(angle_rad)\n",
    "        new_z = self.x * math.sin(angle_rad) + self.z * math.cos(angle_rad)\n",
    "        return Vector3(new_x, self.y, new_z)\n",
    "    \n",
    "    "
   ]
  },
  {
   "cell_type": "code",
   "execution_count": 3,
   "metadata": {},
   "outputs": [],
   "source": [
    "osc_addresses = {\n",
    "    \"head\": {\n",
    "        \"position\": \"/tracking/trackers/head/position\",\n",
    "        \"rotation\": \"/tracking/trackers/head/rotation\"\n",
    "    },\n",
    "    \"tracker1\": {\n",
    "        \"position\": \"/tracking/trackers/1/position\",\n",
    "        \"rotation\": \"/tracking/trackers/1/rotation\"\n",
    "    },\n",
    "    \"tracker2\": {\n",
    "        \"position\": \"/tracking/trackers/2/position\",\n",
    "        \"rotation\": \"/tracking/trackers/2/rotation\"\n",
    "    },\n",
    "    \"tracker3\": {\n",
    "        \"position\": \"/tracking/trackers/3/position\",\n",
    "        \"rotation\": \"/tracking/trackers/3/rotation\"\n",
    "    },\n",
    "    \"tracker4\": {\n",
    "        \"position\": \"/tracking/trackers/4/position\",\n",
    "        \"rotation\": \"/tracking/trackers/4/rotation\"\n",
    "    },\n",
    "    \"tracker5\": {\n",
    "        \"position\": \"/tracking/trackers/5/position\",\n",
    "        \"rotation\": \"/tracking/trackers/5/rotation\"\n",
    "    },\n",
    "    \"tracker6\": {\n",
    "        \"position\": \"/tracking/trackers/6/position\",\n",
    "        \"rotation\": \"/tracking/trackers/6/rotation\"\n",
    "    },\n",
    "    \"tracker7\": {\n",
    "        \"position\": \"/tracking/trackers/7/position\",\n",
    "        \"rotation\": \"/tracking/trackers/7/rotation\"\n",
    "    },\n",
    "    \"tracker8\": {\n",
    "        \"position\": \"/tracking/trackers/8/position\",\n",
    "        \"rotation\": \"/tracking/trackers/8/rotation\"\n",
    "    }\n",
    "}"
   ]
  },
  {
   "cell_type": "code",
   "execution_count": 4,
   "metadata": {},
   "outputs": [],
   "source": [
    "\n",
    "tracker_initial_pose = {\n",
    "    \"head\": {\n",
    "        \"position\": Vector3 (0.0, -0.1, -0.1),\n",
    "        \"rotation\": Vector3 (0.0, 0.0, 0.0)\n",
    "    },\n",
    "    \"tracker1\": {\n",
    "        \"position\": Vector3 (0.007038268726319075, -0.4179477095603943, -0.13543081283569336),\n",
    "        \"rotation\": Vector3 (6.355330944061279, 0.14127297699451447, 1.275995135307312)\n",
    "    },\n",
    "    \"tracker2\": {\n",
    "        \"position\": Vector3 (-0.027461811900138855, -0.5279591679573059, 0.07506200671195984),\n",
    "        \"rotation\": Vector3 (-56.81068801879883, 28.648338317871094, -33.136802673339844)\n",
    "    }\n",
    "    \n",
    "}\n",
    "        \n",
    "\n",
    "\n"
   ]
  },
  {
   "cell_type": "code",
   "execution_count": 5,
   "metadata": {},
   "outputs": [
    {
     "ename": "KeyboardInterrupt",
     "evalue": "",
     "output_type": "error",
     "traceback": [
      "\u001b[1;31m---------------------------------------------------------------------------\u001b[0m",
      "\u001b[1;31mKeyboardInterrupt\u001b[0m                         Traceback (most recent call last)",
      "\u001b[1;32md:\\data-fusion\\notebooks\\osc-test\\osc-text.ipynb Cell 5\u001b[0m line \u001b[0;36m3\n\u001b[0;32m      <a href='vscode-notebook-cell:/d%3A/data-fusion/notebooks/osc-test/osc-text.ipynb#W4sZmlsZQ%3D%3D?line=0'>1</a>\u001b[0m \u001b[39mfor\u001b[39;00m i \u001b[39min\u001b[39;00m \u001b[39mrange\u001b[39m(\u001b[39m60\u001b[39m \u001b[39m*\u001b[39m \u001b[39m5\u001b[39m):\n\u001b[0;32m      <a href='vscode-notebook-cell:/d%3A/data-fusion/notebooks/osc-test/osc-text.ipynb#W4sZmlsZQ%3D%3D?line=1'>2</a>\u001b[0m     \u001b[39mfor\u001b[39;00m d \u001b[39min\u001b[39;00m \u001b[39mrange\u001b[39m(\u001b[39m10\u001b[39m):\n\u001b[1;32m----> <a href='vscode-notebook-cell:/d%3A/data-fusion/notebooks/osc-test/osc-text.ipynb#W4sZmlsZQ%3D%3D?line=2'>3</a>\u001b[0m         time\u001b[39m.\u001b[39msleep(\u001b[39m0.1\u001b[39m)\n\u001b[0;32m      <a href='vscode-notebook-cell:/d%3A/data-fusion/notebooks/osc-test/osc-text.ipynb#W4sZmlsZQ%3D%3D?line=3'>4</a>\u001b[0m         client\u001b[39m.\u001b[39msend_message(osc_addresses[\u001b[39m\"\u001b[39m\u001b[39mhead\u001b[39m\u001b[39m\"\u001b[39m][\u001b[39m\"\u001b[39m\u001b[39mposition\u001b[39m\u001b[39m\"\u001b[39m], tracker_initial_pose[\u001b[39m\"\u001b[39m\u001b[39mhead\u001b[39m\u001b[39m\"\u001b[39m][\u001b[39m\"\u001b[39m\u001b[39mposition\u001b[39m\u001b[39m\"\u001b[39m]\u001b[39m.\u001b[39mto_vector())\n\u001b[0;32m      <a href='vscode-notebook-cell:/d%3A/data-fusion/notebooks/osc-test/osc-text.ipynb#W4sZmlsZQ%3D%3D?line=4'>5</a>\u001b[0m         client\u001b[39m.\u001b[39msend_message(osc_addresses[\u001b[39m\"\u001b[39m\u001b[39mhead\u001b[39m\u001b[39m\"\u001b[39m][\u001b[39m\"\u001b[39m\u001b[39mrotation\u001b[39m\u001b[39m\"\u001b[39m], tracker_initial_pose[\u001b[39m\"\u001b[39m\u001b[39mhead\u001b[39m\u001b[39m\"\u001b[39m][\u001b[39m\"\u001b[39m\u001b[39mrotation\u001b[39m\u001b[39m\"\u001b[39m]\u001b[39m.\u001b[39mto_vector())\n",
      "\u001b[1;31mKeyboardInterrupt\u001b[0m: "
     ]
    }
   ],
   "source": [
    "for i in range(60 * 5):\n",
    "    for d in range(10):\n",
    "        time.sleep(0.1)\n",
    "        client.send_message(osc_addresses[\"head\"][\"position\"], tracker_initial_pose[\"head\"][\"position\"].to_vector())\n",
    "        client.send_message(osc_addresses[\"head\"][\"rotation\"], tracker_initial_pose[\"head\"][\"rotation\"].to_vector())\n",
    "        client.send_message(osc_addresses[\"tracker1\"][\"position\"], tracker_initial_pose[\"tracker1\"][\"position\"].to_vector())\n",
    "        client.send_message(osc_addresses[\"tracker1\"][\"rotation\"], tracker_initial_pose[\"tracker1\"][\"rotation\"].to_vector())\n",
    "        client.send_message(osc_addresses[\"tracker2\"][\"position\"], tracker_initial_pose[\"tracker2\"][\"position\"].to_vector())\n",
    "        client.send_message(osc_addresses[\"tracker2\"][\"rotation\"], tracker_initial_pose[\"tracker2\"][\"rotation\"].to_vector())"
   ]
  },
  {
   "cell_type": "code",
   "execution_count": 330,
   "metadata": {},
   "outputs": [],
   "source": [
    "tracker_initial_pose = {\n",
    "    \"head\": {\n",
    "        \"position\": Vector3 (0.0, 0.0, 0.0),\n",
    "        \"rotation\": Vector3 (0.0, 0.0, 0.0)\n",
    "    },\n",
    "    \"tracker1\": {\n",
    "        \"position\": Vector3 (0.007038268726319075, -0.4179477095603943, -0.13543081283569336),\n",
    "        \"rotation\": Vector3 (6.355330944061279, 0.14127297699451447, 1.275995135307312)\n",
    "    },\n",
    "    \"tracker2\": {\n",
    "        \"position\": Vector3 (-0.027461811900138855, -0.5279591679573059, 0.07506200671195984),\n",
    "        \"rotation\": Vector3 (-56.81068801879883, 28.648338317871094, -33.136802673339844)\n",
    "    }\n",
    "    \n",
    "}\n",
    "\n",
    "client.send_message(osc_addresses[\"head\"][\"position\"], tracker_initial_pose[\"head\"][\"position\"].to_vector())\n",
    "client.send_message(osc_addresses[\"head\"][\"rotation\"], tracker_initial_pose[\"head\"][\"rotation\"].to_vector())\n",
    "client.send_message(osc_addresses[\"tracker1\"][\"position\"], tracker_initial_pose[\"tracker1\"][\"position\"].to_vector())\n",
    "client.send_message(osc_addresses[\"tracker1\"][\"rotation\"], tracker_initial_pose[\"tracker1\"][\"rotation\"].to_vector())\n",
    "client.send_message(osc_addresses[\"tracker2\"][\"position\"], tracker_initial_pose[\"tracker2\"][\"position\"].to_vector())\n",
    "client.send_message(osc_addresses[\"tracker2\"][\"rotation\"], tracker_initial_pose[\"tracker2\"][\"rotation\"].to_vector())\n"
   ]
  },
  {
   "cell_type": "markdown",
   "metadata": {},
   "source": []
  },
  {
   "cell_type": "code",
   "execution_count": null,
   "metadata": {},
   "outputs": [],
   "source": [
    "\n",
    "\n",
    "current_pose = tracker_initial_pose\n",
    "\n",
    "\n",
    "def send_tracker_data(tracker_name: str, position: Vector3, rotation: Vector3) -> None:\n",
    "    client.send_message(osc_addresses[tracker_name][\"position\"], position.to_vector())\n",
    "    client.send_message(osc_addresses[tracker_name][\"rotation\"], rotation.to_vector())\n",
    "\n",
    "def rotate_trackers(duration: float = 15.0, angle_step: float = 0.1) -> None:\n",
    "    start_time = time.time()\n",
    "    while time.time() - start_time < duration:\n",
    "        for tracker_name in [\"tracker1\"]:\n",
    "            # update current pose\n",
    "            current_pose[tracker_name][\"rotation\"].y += angle_step\n",
    "            # send data\n",
    "            send_tracker_data(tracker_name, current_pose[tracker_name][\"position\"], current_pose[tracker_name][\"rotation\"])\n",
    "            time.sleep(0.01)\n",
    "            \n",
    "    # reset pose\n",
    "    for tracker_name in [\"tracker1\"]:\n",
    "        send_tracker_data(tracker_name, tracker_initial_pose[tracker_name][\"position\"], tracker_initial_pose[tracker_name][\"rotation\"])\n",
    "\n",
    "    \n",
    "\n",
    "rotate_trackers()\n"
   ]
  },
  {
   "cell_type": "code",
   "execution_count": null,
   "metadata": {},
   "outputs": [],
   "source": [
    "osc_trackers_pos: str = \"/tracking/trackers/1/position\"\n",
    "osc_trackers_rot: str = \"/tracking/trackers/1/rotation\"\n",
    "client.send_message(osc_trackers_pos, [1.0,2.0,3.0])\n",
    "client.send_message(osc_trackers_rot, [0.1,9.2,0.3]) \n",
    "for i in range(0, 180):\n",
    "    client.send_message(osc_trackers_pos, [1.0,2.0,3.0])\n",
    "    client.send_message(osc_trackers_rot, [0.1,float(i),0.3])\n",
    "    time.sleep(0.1)\n"
   ]
  },
  {
   "cell_type": "code",
   "execution_count": null,
   "metadata": {},
   "outputs": [],
   "source": [
    "# #slowly rotate the tracker\n",
    "for i in range(0, 180):\n",
    "    client.send_message(osc_trackers_pos, [0.0,1.0,0.0])\n",
    "    client.send_message(osc_trackers_rot, [0.0,float(i),0.0])\n",
    "    time.sleep(0.1)"
   ]
  },
  {
   "cell_type": "code",
   "execution_count": null,
   "metadata": {},
   "outputs": [],
   "source": [
    "#get ip in local network\n",
    "local_network_ip = socket.gethostbyname(socket.gethostname())\n",
    "print(local_network_ip)\n",
    "port = 9000"
   ]
  },
  {
   "cell_type": "code",
   "execution_count": null,
   "metadata": {},
   "outputs": [],
   "source": [
    "#setup osc client\n",
    "client = SimpleUDPClient(local_network_ip, port)\n",
    "#send to text osc server\n",
    "client.send_message(\"/text\", \"Hello World\")\n",
    "client.send_message(\"/text\", \"Hello World\")"
   ]
  },
  {
   "cell_type": "code",
   "execution_count": null,
   "metadata": {},
   "outputs": [],
   "source": [
    "# possible order of trackers:\n",
    "# hip, chest, 2x feet, 2x knees, 2x elbows (upper arms)\n",
    "\n",
    "osc_addresses = {\n",
    "    \"hip\": {\n",
    "        \"position\": \"/tracking/trackers/1/position\",\n",
    "        \"rotation\": \"/tracking/trackers/1/rotation\"\n",
    "    },\n",
    "    \"chest\": {\n",
    "        \"position\": \"/tracking/trackers/2/position\",\n",
    "        \"rotation\": \"/tracking/trackers/2/rotation\"\n",
    "    },\n",
    "    \"feet_0\": {\n",
    "        \"position\": \"/tracking/trackers/3/position\",\n",
    "        \"rotation\": \"/tracking/trackers/3/rotation\"\n",
    "    },\n",
    "    \"feet_1\": {\n",
    "        \"position\": \"/tracking/trackers/4/position\",\n",
    "        \"rotation\": \"/tracking/trackers/4/rotation\"\n",
    "    },\n",
    "    \"knee_0\": {\n",
    "        \"position\": \"/tracking/trackers/5/position\",\n",
    "        \"rotation\": \"/tracking/trackers/5/rotation\"\n",
    "    },\n",
    "    \"knee_1\": {\n",
    "        \"position\": \"/tracking/trackers/6/position\",\n",
    "        \"rotation\": \"/tracking/trackers/6/rotation\"\n",
    "    },\n",
    "    \"elbow_0\": {\n",
    "        \"position\": \"/tracking/trackers/7/position\",\n",
    "        \"rotation\": \"/tracking/trackers/7/rotation\"\n",
    "    },\n",
    "    \"elbow_1\": {\n",
    "        \"position\": \"/tracking/trackers/8/position\",\n",
    "        \"rotation\": \"/tracking/trackers/8/rotation\"\n",
    "    },\n",
    "    \"head\": {\n",
    "        \"position\": \"/tracking/trackers/head/position\",\n",
    "        \"rotation\": \"/tracking/trackers/head/rotation\"\n",
    "    }\n",
    "}"
   ]
  },
  {
   "cell_type": "code",
   "execution_count": null,
   "metadata": {},
   "outputs": [],
   "source": [
    "Vector3 = [0.0, 180.0, 0.0]\n",
    "for tracker in osc_addresses:\n",
    "    client.send_message(osc_addresses[tracker][\"rotation\"], Vector3)"
   ]
  },
  {
   "cell_type": "code",
   "execution_count": null,
   "metadata": {},
   "outputs": [],
   "source": [
    "\n",
    "osc_addresses = {\n",
    "    \"hip\": {\n",
    "        \"position\": \"/tracking/trackers/1/position\",\n",
    "        \"rotation\": \"/tracking/trackers/1/rotation\"\n",
    "    },\n",
    "    \"chest\": {\n",
    "        \"position\": \"/tracking/trackers/2/position\",\n",
    "        \"rotation\": \"/tracking/trackers/2/rotation\"\n",
    "    },\n",
    "    \"feet_0\": {\n",
    "        \"position\": \"/tracking/trackers/3/position\",\n",
    "        \"rotation\": \"/tracking/trackers/3/rotation\"\n",
    "    },\n",
    "    \"feet_1\": {\n",
    "        \"position\": \"/tracking/trackers/4/position\",\n",
    "        \"rotation\": \"/tracking/trackers/4/rotation\"\n",
    "    },\n",
    "    \"knee_0\": {\n",
    "        \"position\": \"/tracking/trackers/5/position\",\n",
    "        \"rotation\": \"/tracking/trackers/5/rotation\"\n",
    "    },\n",
    "    \"knee_1\": {\n",
    "        \"position\": \"/tracking/trackers/6/position\",\n",
    "        \"rotation\": \"/tracking/trackers/6/rotation\"\n",
    "    },\n",
    "    \"elbow_0\": {\n",
    "        \"position\": \"/tracking/trackers/7/position\",\n",
    "        \"rotation\": \"/tracking/trackers/7/rotation\"\n",
    "    },\n",
    "    \"elbow_1\": {\n",
    "        \"position\": \"/tracking/trackers/8/position\",\n",
    "        \"rotation\": \"/tracking/trackers/8/rotation\"\n",
    "    },\n",
    "    \"head\": {\n",
    "        \"position\": \"/tracking/trackers/head/position\",\n",
    "        \"rotation\": \"/tracking/trackers/head/rotation\"\n",
    "    }\n",
    "}"
   ]
  },
  {
   "cell_type": "code",
   "execution_count": null,
   "metadata": {},
   "outputs": [],
   "source": [
    "#iterate through all trackers\n",
    "for tracker in osc_addresses:\n",
    "    if tracker == \"head\":\n",
    "        \n",
    "        client.send_message(\"/chatbox/input\", [tracker, True]) # Send message with text and True for enter\n",
    "        time.sleep(5)\n",
    "        for i in range(180, -180, -1):\n",
    "            Vector3 = [0.0, float(i), 0.0]\n",
    "            client.send_message(osc_addresses[tracker][\"rotation\"], Vector3)\n",
    "            time.sleep(0.01)\n",
    "        time.sleep(1)\n",
    "    "
   ]
  },
  {
   "cell_type": "code",
   "execution_count": null,
   "metadata": {},
   "outputs": [],
   "source": [
    "client.send_message(osc_addresses[\"chest\"][\"rotation\"],  [0.0, -180, 0.0])"
   ]
  },
  {
   "cell_type": "code",
   "execution_count": null,
   "metadata": {},
   "outputs": [],
   "source": [
    "192.168.31.228"
   ]
  }
 ],
 "metadata": {
  "kernelspec": {
   "display_name": "Python 3",
   "language": "python",
   "name": "python3"
  },
  "language_info": {
   "codemirror_mode": {
    "name": "ipython",
    "version": 3
   },
   "file_extension": ".py",
   "mimetype": "text/x-python",
   "name": "python",
   "nbconvert_exporter": "python",
   "pygments_lexer": "ipython3",
   "version": "3.11.0"
  },
  "orig_nbformat": 4
 },
 "nbformat": 4,
 "nbformat_minor": 2
}
