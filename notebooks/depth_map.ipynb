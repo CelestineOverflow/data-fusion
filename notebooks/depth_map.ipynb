{
 "cells": [
  {
   "cell_type": "code",
   "execution_count": 2,
   "metadata": {},
   "outputs": [],
   "source": [
    "import cv2 \n",
    "import numpy as np\n",
    "import matplotlib.pyplot as plt\n"
   ]
  },
  {
   "cell_type": "code",
   "execution_count": 3,
   "metadata": {},
   "outputs": [],
   "source": [
    "camera = cv2.VideoCapture(1)\n",
    "count = 0\n",
    "while True:\n",
    "    ret, frame = camera.read()\n",
    "    if ret:\n",
    "        cv2.imshow('frame', frame)\n",
    "        if cv2.waitKey(1) & 0xFF == ord('s'):\n",
    "            cv2.imwrite('frame%d.jpg' % count, frame)\n",
    "            count += 1\n",
    "            pass\n",
    "        if cv2.waitKey(1) & 0xFF == ord('p'):\n",
    "            pass\n",
    "        if cv2.waitKey(1) & 0xFF == ord('q'):\n",
    "            break\n",
    "cv2.destroyAllWindows()\n",
    "camera.release()"
   ]
  },
  {
   "cell_type": "code",
   "execution_count": 6,
   "metadata": {},
   "outputs": [],
   "source": [
    "imgL = cv2.imread('tsukuba_l.png',0)\n",
    "imgR = cv2.imread('tsukuba_r.png',0)\n",
    "\n",
    "stereo = cv2.StereoBM_create(numDisparities=16, blockSize=15)   \n",
    "disparity = stereo.compute(imgL,imgR)\n",
    "#create a normal map from the disparity image\n",
    "normal_map = cv2.normalize(disparity, None, alpha=0, beta=255, norm_type=cv2.NORM_MINMAX, dtype=cv2.CV_8U)\n",
    "#show the normal map\n",
    "cv2.imshow('normal map', normal_map)\n",
    "cv2.save('normal_map.png', normal_map)\n"
   ]
  },
  {
   "cell_type": "code",
   "execution_count": 48,
   "metadata": {},
   "outputs": [
    {
     "name": "stdout",
     "output_type": "stream",
     "text": [
      "point cloud saved\n"
     ]
    }
   ],
   "source": [
    "#create point cloud\n",
    "h, w = imgL.shape[:2]\n",
    "points = np.zeros((h, w, 3), np.float32)\n",
    "for y in range(h):\n",
    "    for x in range(w):\n",
    "        points[y, x] = (x, y, disparity[y, x])\n",
    "\n",
    "#convert to 3d point cloud\n",
    "points = points.reshape(-1, 3)\n",
    "#save point cloud\n",
    "header = '''# .PCD v.7 - Point Cloud Data file format\n",
    "FIELDS x y z\n",
    "SIZE 4 4 4\n",
    "TYPE F F F\n",
    "COUNT 1 1 1\n",
    "WIDTH %d\n",
    "HEIGHT 1\n",
    "VIEWPOINT 0 0 0 1 0 0 0\n",
    "POINTS %d\n",
    "'''\n",
    "with open('point_cloud.pcd', 'w') as f:\n",
    "    f.write(header % (len(points), len(points)))\n",
    "    np.savetxt(f, points, fmt='%f %f %f')\n",
    "    print('point cloud saved')"
   ]
  }
 ],
 "metadata": {
  "kernelspec": {
   "display_name": "Python 3",
   "language": "python",
   "name": "python3"
  },
  "language_info": {
   "codemirror_mode": {
    "name": "ipython",
    "version": 3
   },
   "file_extension": ".py",
   "mimetype": "text/x-python",
   "name": "python",
   "nbconvert_exporter": "python",
   "pygments_lexer": "ipython3",
   "version": "3.10.9"
  },
  "orig_nbformat": 4,
  "vscode": {
   "interpreter": {
    "hash": "071a0fd90c68b5e9f25052555288567dac79f5ec0b821d8a64470ad2ac6e019c"
   }
  }
 },
 "nbformat": 4,
 "nbformat_minor": 2
}
