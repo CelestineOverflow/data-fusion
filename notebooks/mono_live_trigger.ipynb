{
 "cells": [
  {
   "cell_type": "code",
   "execution_count": 6,
   "metadata": {},
   "outputs": [],
   "source": [
    "import os \n",
    "import shutil\n",
    "from pupil_apriltags import Detector\n",
    "import cv2\n",
    "import numpy as np\n",
    "import json\n",
    "import scipy as sp\n",
    "import socket\n",
    "import pickle\n",
    "from IPython.display import clear_output"
   ]
  },
  {
   "cell_type": "code",
   "execution_count": 7,
   "metadata": {},
   "outputs": [],
   "source": [
    "def load_calibration_file(calibration_file_path):\n",
    "    with open(calibration_file_path, 'r') as infile:\n",
    "        reconstruction = json.load(infile)\n",
    "        mtx = np.array(reconstruction['mtx'])\n",
    "        dist = np.array(reconstruction['dist'])\n",
    "    return mtx, dist\n",
    "\n",
    "mtx, dist = load_calibration_file('calibration_data.json')"
   ]
  },
  {
   "cell_type": "code",
   "execution_count": 8,
   "metadata": {},
   "outputs": [],
   "source": [
    "fx, fy, cx, cy = mtx[0,0], mtx[1,1], mtx[0,2], mtx[1,2]"
   ]
  },
  {
   "cell_type": "code",
   "execution_count": 9,
   "metadata": {},
   "outputs": [
    {
     "name": "stdout",
     "output_type": "stream",
     "text": [
      "Camera found at index:  0\n",
      "Camera found at index:  1\n",
      "Camera found at index:  2\n"
     ]
    }
   ],
   "source": [
    "#check for available cameras\n",
    "for i in range(10):\n",
    "    camera = cv2.VideoCapture(i)\n",
    "    ret, frame = camera.read()\n",
    "    if ret:\n",
    "        print('Camera found at index: ', i)\n",
    "        camera.release()"
   ]
  },
  {
   "cell_type": "code",
   "execution_count": 10,
   "metadata": {},
   "outputs": [],
   "source": [
    "def detector_superimpose(img, detector, tag_size=0.16):\n",
    "    gray = cv2.cvtColor(img, cv2.COLOR_BGR2GRAY)\n",
    "    detections = detector.detect(gray, estimate_tag_pose= True, camera_params=[fx, fy, cx, cy], tag_size=tag_size)\n",
    "    for detection in detections:\n",
    "        center = detection.center\n",
    "        cv2.circle(img, (int(center[0]), int(center[1])), 5, (0, 0, 255), -1)\n",
    "        cv2.putText(img, str(detection.tag_id), (int(center[0]), int(center[1])), cv2.FONT_HERSHEY_SIMPLEX, 1, (0, 0, 255), 2, cv2.LINE_AA)\n",
    "        #pose data is in = detection.pose_R, detection.pose_t\n",
    "        # quat = sp.spatial.transform.Rotation.from_matrix(detection.pose_R).as_quat()\n",
    "        # cv2.putText(img, str(quat), (int(center[0]), int(center[1]+30)), cv2.FONT_HERSHEY_SIMPLEX, 0.5, (0, 0, 255), 1, cv2.LINE_AA)\n",
    "        euler = sp.spatial.transform.Rotation.from_matrix(detection.pose_R).as_euler('xyz', degrees=True)\n",
    "        cv2.putText(img, str(euler), (int(center[0]), int(center[1]+60)), cv2.FONT_HERSHEY_SIMPLEX, 0.5, (0, 0, 255), 1, cv2.LINE_AA)\n",
    "    \n",
    "def live_feed(camera_id):\n",
    "    cap = cv2.VideoCapture(camera_id)\n",
    "    detector = Detector(families='tag36h11', nthreads=1, quad_decimate=1.0, quad_sigma=0.0, refine_edges=1, decode_sharpening=0.25, debug=0)\n",
    "    while True:\n",
    "        ret, frame = cap.read()\n",
    "        if ret:\n",
    "            detector_superimpose(frame, detector)\n",
    "            cv2.imshow('frame', frame)\n",
    "            if cv2.waitKey(1) & 0xFF == ord('q'):\n",
    "                break\n",
    "        else:\n",
    "            print(\"Camera is not working\")\n",
    "            break\n",
    "    cap.release()\n",
    "    cv2.destroyAllWindows()\n",
    "\n",
    "live_feed(1)"
   ]
  },
  {
   "cell_type": "code",
   "execution_count": null,
   "metadata": {},
   "outputs": [],
   "source": [
    "posisional_data = {\n",
    "    \"tag_id\": int,\n",
    "    \"pose_t\": [float, float, float],\n",
    "    \"pose_quat\": [float, float, float, float]\n",
    "}\n",
    "\n",
    "def getPoseData(img, detector, tag_size=0.16):\n",
    "    gray = cv2.cvtColor(img, cv2.COLOR_BGR2GRAY)\n",
    "    detections = detector.detect(gray, estimate_tag_pose= True, camera_params=[fx, fy, cx, cy], tag_size=tag_size)\n",
    "    for detection in detections:\n",
    "        #tag id\n",
    "        tag_id = detection.tag_id\n",
    "        #translation vector\n",
    "        pose_t = detection.pose_t\n",
    "        #quaternion\n",
    "        pose_quat = sp.spatial.transform.Rotation.from_matrix(detection.pose_R).as_quat()\n",
    "        #conver both to list\n",
    "        pose_t = pose_t.tolist()\n",
    "        pose_quat = pose_quat.tolist()\n",
    "        return tag_id, pose_t, pose_quat\n",
    "\n",
    "def transmitter(camera_id, ip, port):\n",
    "    detector = Detector(families='tag36h11', nthreads=1, quad_decimate=1.0, quad_sigma=0.0, refine_edges=1, decode_sharpening=0.25, debug=0)\n",
    "    cap = cv2.VideoCapture(camera_id)\n",
    "    while True:\n",
    "        ret, frame = cap.read()\n",
    "        if ret:\n",
    "            try:\n",
    "                tag_id, pose_t, pose_quat = getPoseData(frame, detector)\n",
    "                if tag_id is not None:\n",
    "                    posisional_data['tag_id'] = tag_id\n",
    "                    posisional_data['pose_t'] = pose_t\n",
    "                    posisional_data['pose_quat'] = pose_quat\n",
    "                    print(posisional_data)\n",
    "                    data = pickle.dumps(posisional_data)\n",
    "                    with socket.socket(socket.AF_INET, socket.SOCK_DGRAM) as s:\n",
    "                        s.connect((ip, port))\n",
    "                        s.sendall(data)\n",
    "                        print(\"Data sent\")\n",
    "                       \n",
    "            except Exception as e:\n",
    "                if e.args[0] == \"cannot unpack non-iterable NoneType object\":\n",
    "                    pass\n",
    "                else:\n",
    "                    print(e)\n",
    "        else:\n",
    "            print(\"Camera is not working\")\n",
    "            break\n",
    "    cap.release()\n",
    "    cv2.destroyAllWindows()\n",
    "\n",
    "\n",
    "transmitter(1, 'localhost', 1337)\n"
   ]
  }
 ],
 "metadata": {
  "kernelspec": {
   "display_name": "Python 3",
   "language": "python",
   "name": "python3"
  },
  "language_info": {
   "codemirror_mode": {
    "name": "ipython",
    "version": 3
   },
   "file_extension": ".py",
   "mimetype": "text/x-python",
   "name": "python",
   "nbconvert_exporter": "python",
   "pygments_lexer": "ipython3",
   "version": "3.11.0"
  },
  "orig_nbformat": 4,
  "vscode": {
   "interpreter": {
    "hash": "071a0fd90c68b5e9f25052555288567dac79f5ec0b821d8a64470ad2ac6e019c"
   }
  }
 },
 "nbformat": 4,
 "nbformat_minor": 2
}
