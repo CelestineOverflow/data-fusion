{
 "cells": [
  {
   "cell_type": "code",
   "execution_count": 1,
   "metadata": {},
   "outputs": [],
   "source": [
    "import os\n",
    "\n",
    "def generate_md(path, ignore_list, level=0):\n",
    "    # Get the content of the directory\n",
    "    content = os.listdir(path)\n",
    "    # Filter out the content in the ignore list\n",
    "    content = [c for c in content if c not in ignore_list]\n",
    "    # Sort the content so directories come first\n",
    "    content.sort(key=lambda x: os.path.isfile(os.path.join(path, x)))\n",
    "    markdown = ''\n",
    "    for item in content:\n",
    "        item_path = os.path.join(path, item)\n",
    "        if os.path.isdir(item_path):\n",
    "            markdown += '\\t' * level + '- ' + item + '\\n'\n",
    "            markdown += generate_md(item_path, ignore_list, level + 1)\n",
    "        else:\n",
    "            markdown += '\\t' * level + '- ' + item + '\\n'\n",
    "    return markdown\n",
    "\n",
    "def write_to_md_file(path, ignore_list, output_file):\n",
    "    markdown = generate_md(path, ignore_list)\n",
    "    with open(output_file, 'w') as f:\n",
    "        f.write(markdown)\n",
    "\n",
    "\n"
   ]
  },
  {
   "cell_type": "code",
   "execution_count": 2,
   "metadata": {},
   "outputs": [],
   "source": [
    "# Use the script like this\n",
    "path = r\"D:\\data-fusion\\firmware\"\n",
    "ignore_list = [\".pio\", \".vscode\"]\n",
    "output_file = \"output.md\"\n",
    "write_to_md_file(path, ignore_list, output_file)"
   ]
  }
 ],
 "metadata": {
  "kernelspec": {
   "display_name": "Python 3",
   "language": "python",
   "name": "python3"
  },
  "language_info": {
   "codemirror_mode": {
    "name": "ipython",
    "version": 3
   },
   "file_extension": ".py",
   "mimetype": "text/x-python",
   "name": "python",
   "nbconvert_exporter": "python",
   "pygments_lexer": "ipython3",
   "version": "3.11.0"
  },
  "orig_nbformat": 4
 },
 "nbformat": 4,
 "nbformat_minor": 2
}
