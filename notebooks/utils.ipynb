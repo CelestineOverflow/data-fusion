{
 "cells": [
  {
   "cell_type": "code",
   "execution_count": 1,
   "metadata": {},
   "outputs": [],
   "source": [
    "import os\n",
    "\n",
    "def generate_md(path, ignore_list, level=0):\n",
    "    # Get the content of the directory\n",
    "    content = os.listdir(path)\n",
    "    # Filter out the content in the ignore list\n",
    "    content = [c for c in content if c not in ignore_list]\n",
    "    # Sort the content so directories come first\n",
    "    content.sort(key=lambda x: os.path.isfile(os.path.join(path, x)))\n",
    "    markdown = ''\n",
    "    for item in content:\n",
    "        item_path = os.path.join(path, item)\n",
    "        if os.path.isdir(item_path):\n",
    "            markdown += '\\t' * level + '- ' + item + '\\n'\n",
    "            markdown += generate_md(item_path, ignore_list, level + 1)\n",
    "        else:\n",
    "            markdown += '\\t' * level + '- ' + item + '\\n'\n",
    "    return markdown\n",
    "\n",
    "def write_to_md_file(path, ignore_list, output_file):\n",
    "    markdown = generate_md(path, ignore_list)\n",
    "    with open(output_file, 'w') as f:\n",
    "        f.write(markdown)\n",
    "\n",
    "\n"
   ]
  },
  {
   "cell_type": "code",
   "execution_count": 6,
   "metadata": {},
   "outputs": [],
   "source": [
    "from pythonosc import udp_client\n",
    "from pythonosc import osc_bundle_builder\n",
    "from pythonosc import osc_message_builder\n",
    "from pythonosc import udp_client\n",
    "import time\n",
    "\n",
    "# Configuration\n",
    "osc_target_ip = \"127.0.0.1\"\n",
    "osc_target_port = 9000\n",
    "  # Tracker ID to simulate (1 to 8)\n",
    "\n",
    "# Create an OSC client\n",
    "osc_client = udp_client.SimpleUDPClient(osc_target_ip, osc_target_port)\n",
    "\n",
    "def osc_build_msg(name, position_or_rotation, args):\n",
    "    builder = osc_message_builder.OscMessageBuilder(address=f\"/tracking/trackers/{name}/{position_or_rotation}\")\n",
    "    builder.add_arg(float(args[0]))\n",
    "    builder.add_arg(float(args[1]))\n",
    "    builder.add_arg(float(args[2]))\n",
    "    return builder.build()\n",
    "\n",
    "# /tracking/trackers/1/position\n",
    "# /tracking/trackers/1/rotation\n",
    "# /tracking/trackers/2/position\n",
    "# /tracking/trackers/2/rotation\n",
    "# /tracking/trackers/3/position\n",
    "# /tracking/trackers/3/rotation\n",
    "# /tracking/trackers/4/position\n",
    "# /tracking/trackers/4/rotation\n",
    "# /tracking/trackers/5/position\n",
    "# /tracking/trackers/5/rotation\n",
    "# /tracking/trackers/6/position\n",
    "# /tracking/trackers/6/rotation\n",
    "# /tracking/trackers/7/position\n",
    "# /tracking/trackers/7/rotation\n",
    "# /tracking/trackers/8/position\n",
    "# /tracking/trackers/8/rotation\n",
    "# /tracking/trackers/head/position\n",
    "# /tracking/trackers/head/rotation\n",
    "\n",
    "# Send OSC messages to simulate trackers 1\n",
    "for j in range(1, 90):\n",
    "    osc_client.send(osc_build_msg(1, \"position\", [0, 0, 0]))\n",
    "    osc_client.send(osc_build_msg(1, \"rotation\", [0, j, 0]))\n",
    "    time.sleep(0.1)"
   ]
  },
  {
   "cell_type": "code",
   "execution_count": 2,
   "metadata": {},
   "outputs": [],
   "source": [
    "# Use the script like this\n",
    "path = r\"D:\\data-fusion\\firmware\"\n",
    "ignore_list = [\".pio\", \".vscode\"]\n",
    "output_file = \"output.md\"\n",
    "write_to_md_file(path, ignore_list, output_file)"
   ]
  }
 ],
 "metadata": {
  "kernelspec": {
   "display_name": "Python 3",
   "language": "python",
   "name": "python3"
  },
  "language_info": {
   "codemirror_mode": {
    "name": "ipython",
    "version": 3
   },
   "file_extension": ".py",
   "mimetype": "text/x-python",
   "name": "python",
   "nbconvert_exporter": "python",
   "pygments_lexer": "ipython3",
   "version": "3.11.0"
  },
  "orig_nbformat": 4
 },
 "nbformat": 4,
 "nbformat_minor": 2
}
