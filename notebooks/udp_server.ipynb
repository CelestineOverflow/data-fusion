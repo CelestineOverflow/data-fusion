{
 "cells": [
  {
   "cell_type": "code",
   "execution_count": null,
   "metadata": {},
   "outputs": [],
   "source": []
  },
  {
   "cell_type": "code",
   "execution_count": null,
   "metadata": {},
   "outputs": [],
   "source": [
    "import socket\n",
    "import time\n",
    "import json\n",
    "\n",
    "s = socket.socket(socket.AF_INET, socket.SOCK_DGRAM)\n",
    "s.connect((\"8.8.8.8\", 80))\n",
    "local_network_ip= s.getsockname()[0]\n",
    "s.close()\n",
    "\n",
    "port = 1337\n",
    "bufferSize = 1024\n",
    "\n",
    "print(\"UDP server IP address: \" +  local_network_ip + \":\" + str(port))\n",
    "\n",
    "\n",
    "\n",
    "def udp_listener(ip, port):\n",
    "    s = socket.socket(socket.AF_INET, socket.SOCK_DGRAM)\n",
    "    s.bind((ip, port))\n",
    "    print(\"UDP server up and listening\")\n",
    "    s.settimeout(0.1)\n",
    "    start_t = time.time()\n",
    "    d = {\"id\":0,\"position\":{\"x\":0,\"y\":-0.08,\"z\":1.04},\"rotation\":{\"x\":0,\"y\":-0.12,\"z\":0.1}}\n",
    "    while True:\n",
    "        try:\n",
    "            delta_t = time.time() - start_t\n",
    "            data, addr = s.recvfrom(bufferSize)\n",
    "            data = data.decode('utf-8')\n",
    "            if data == \"ping\":\n",
    "                print(\"pong\")\n",
    "                for i in range(10):\n",
    "                    s.sendto(json.dumps(d).encode('utf-8'), addr)\n",
    "            print(data)\n",
    "        except socket.timeout:\n",
    "            pass\n",
    "    "
   ]
  },
  {
   "cell_type": "code",
   "execution_count": 2,
   "metadata": {},
   "outputs": [],
   "source": [
    "#announce mDNS service\n",
    "import socket\n",
    "import time\n",
    "import json\n",
    "import sys\n",
    "\n",
    "from zeroconf import ServiceInfo, Zeroconf\n",
    "\n",
    "\n",
    "service_type = \"_http._tcp.local.\""
   ]
  },
  {
   "cell_type": "code",
   "execution_count": 4,
   "metadata": {},
   "outputs": [
    {
     "name": "stdout",
     "output_type": "stream",
     "text": [
      "\n"
     ]
    }
   ],
   "source": [
    "from zeroconf import ZeroconfServiceTypes\n",
    "print('\\n'.join(ZeroconfServiceTypes.find()))"
   ]
  },
  {
   "cell_type": "code",
   "execution_count": 1,
   "metadata": {},
   "outputs": [
    {
     "name": "stdout",
     "output_type": "stream",
     "text": [
      "Collecting zeroconfNote: you may need to restart the kernel to use updated packages.\n",
      "\n",
      "  Downloading zeroconf-0.63.0.tar.gz (141 kB)\n",
      "                                              0.0/141.6 kB ? eta -:--:--\n",
      "     -----------------------------------    133.1/141.6 kB 7.7 MB/s eta 0:00:01\n",
      "     -------------------------------------- 141.6/141.6 kB 4.2 MB/s eta 0:00:00\n",
      "  Installing build dependencies: started\n",
      "  Installing build dependencies: finished with status 'done'\n",
      "  Getting requirements to build wheel: started\n",
      "  Getting requirements to build wheel: finished with status 'done'\n",
      "  Preparing metadata (pyproject.toml): started\n",
      "  Preparing metadata (pyproject.toml): finished with status 'done'\n",
      "Collecting ifaddr>=0.1.7 (from zeroconf)\n",
      "  Using cached ifaddr-0.2.0-py3-none-any.whl (12 kB)\n",
      "Building wheels for collected packages: zeroconf\n",
      "  Building wheel for zeroconf (pyproject.toml): started\n",
      "  Building wheel for zeroconf (pyproject.toml): finished with status 'done'\n",
      "  Created wheel for zeroconf: filename=zeroconf-0.63.0-cp311-cp311-win_amd64.whl size=771704 sha256=527b8350766f94c5926683846e0f1ea40490ccfe688f89a938def79675d6e410\n",
      "  Stored in directory: c:\\users\\celes\\appdata\\local\\pip\\cache\\wheels\\25\\25\\23\\2ec4ee42fed9014275637af32360006a3f3c164e484e40bd73\n",
      "Successfully built zeroconf\n",
      "Installing collected packages: ifaddr, zeroconf\n",
      "Successfully installed ifaddr-0.2.0 zeroconf-0.63.0\n"
     ]
    }
   ],
   "source": [
    "%pip install zeroconf"
   ]
  },
  {
   "cell_type": "code",
   "execution_count": 2,
   "metadata": {},
   "outputs": [
    {
     "name": "stdout",
     "output_type": "stream",
     "text": [
      "pong\n",
      "ping\n",
      "pong\n",
      "ping\n",
      "pong\n",
      "ping\n",
      "pong\n",
      "ping\n",
      "pong\n",
      "ping\n",
      "pong\n",
      "ping\n",
      "pong\n",
      "ping\n",
      "pong\n",
      "ping\n",
      "pong\n",
      "ping\n",
      "pong\n",
      "ping\n",
      "pong\n",
      "ping\n",
      "pong\n",
      "ping\n",
      "pong\n",
      "ping\n",
      "pong\n",
      "ping\n",
      "pong\n",
      "ping\n",
      "pong\n",
      "ping\n",
      "pong\n",
      "ping\n",
      "pong\n",
      "ping\n",
      "pong\n",
      "ping\n",
      "pong\n",
      "ping\n"
     ]
    },
    {
     "ename": "KeyboardInterrupt",
     "evalue": "",
     "output_type": "error",
     "traceback": [
      "\u001b[1;31m---------------------------------------------------------------------------\u001b[0m",
      "\u001b[1;31mKeyboardInterrupt\u001b[0m                         Traceback (most recent call last)",
      "Cell \u001b[1;32mIn[2], line 1\u001b[0m\n\u001b[1;32m----> 1\u001b[0m udp_listener(local_network_ip, port)\n",
      "Cell \u001b[1;32mIn[1], line 24\u001b[0m, in \u001b[0;36mudp_listener\u001b[1;34m(ip, port)\u001b[0m\n\u001b[0;32m     22\u001b[0m start_t \u001b[39m=\u001b[39m time\u001b[39m.\u001b[39mtime()\n\u001b[0;32m     23\u001b[0m d \u001b[39m=\u001b[39m {\u001b[39m\"\u001b[39m\u001b[39mid\u001b[39m\u001b[39m\"\u001b[39m:\u001b[39m0\u001b[39m,\u001b[39m\"\u001b[39m\u001b[39mposition\u001b[39m\u001b[39m\"\u001b[39m:{\u001b[39m\"\u001b[39m\u001b[39mx\u001b[39m\u001b[39m\"\u001b[39m:\u001b[39m0\u001b[39m,\u001b[39m\"\u001b[39m\u001b[39my\u001b[39m\u001b[39m\"\u001b[39m:\u001b[39m-\u001b[39m\u001b[39m0.08\u001b[39m,\u001b[39m\"\u001b[39m\u001b[39mz\u001b[39m\u001b[39m\"\u001b[39m:\u001b[39m1.04\u001b[39m},\u001b[39m\"\u001b[39m\u001b[39mrotation\u001b[39m\u001b[39m\"\u001b[39m:{\u001b[39m\"\u001b[39m\u001b[39mx\u001b[39m\u001b[39m\"\u001b[39m:\u001b[39m0\u001b[39m,\u001b[39m\"\u001b[39m\u001b[39my\u001b[39m\u001b[39m\"\u001b[39m:\u001b[39m-\u001b[39m\u001b[39m0.12\u001b[39m,\u001b[39m\"\u001b[39m\u001b[39mz\u001b[39m\u001b[39m\"\u001b[39m:\u001b[39m0.1\u001b[39m}}\n\u001b[1;32m---> 24\u001b[0m \u001b[39mwhile\u001b[39;00m \u001b[39mTrue\u001b[39;00m:\n\u001b[0;32m     25\u001b[0m     \u001b[39mtry\u001b[39;00m:\n\u001b[0;32m     26\u001b[0m         delta_t \u001b[39m=\u001b[39m time\u001b[39m.\u001b[39mtime() \u001b[39m-\u001b[39m start_t\n",
      "\u001b[1;31mKeyboardInterrupt\u001b[0m: "
     ]
    }
   ],
   "source": [
    "udp_listener(local_network_ip, port)"
   ]
  },
  {
   "cell_type": "code",
   "execution_count": null,
   "metadata": {},
   "outputs": [],
   "source": []
  }
 ],
 "metadata": {
  "kernelspec": {
   "display_name": "base",
   "language": "python",
   "name": "python3"
  },
  "language_info": {
   "codemirror_mode": {
    "name": "ipython",
    "version": 3
   },
   "file_extension": ".py",
   "mimetype": "text/x-python",
   "name": "python",
   "nbconvert_exporter": "python",
   "pygments_lexer": "ipython3",
   "version": "3.11.0"
  },
  "orig_nbformat": 4,
  "vscode": {
   "interpreter": {
    "hash": "ad2bdc8ecc057115af97d19610ffacc2b4e99fae6737bb82f5d7fb13d2f2c186"
   }
  }
 },
 "nbformat": 4,
 "nbformat_minor": 2
}
