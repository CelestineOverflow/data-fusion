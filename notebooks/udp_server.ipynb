{
 "cells": [
  {
   "cell_type": "code",
   "execution_count": 1,
   "metadata": {},
   "outputs": [
    {
     "name": "stdout",
     "output_type": "stream",
     "text": [
      "UDP server IP address: 192.168.31.242:1337\n"
     ]
    }
   ],
   "source": [
    "import socket\n",
    "\n",
    "localIP = '192.168.31.242'\n",
    "port = 1337\n",
    "bufferSize = 1024\n",
    "\n",
    "print(\"UDP server IP address: \" + localIP + \":\" + str(port))\n",
    "\n",
    "def udp_listener(ip, port):\n",
    "    s = socket.socket(socket.AF_INET, socket.SOCK_DGRAM)\n",
    "    s.bind((ip, port))\n",
    "    print(\"UDP server up and listening\")\n",
    "    s.settimeout(0.1)\n",
    "    while True:\n",
    "        try:\n",
    "            data, addr = s.recvfrom(bufferSize)\n",
    "            print(\"Message: \" + data.decode() + \" from \" + str(addr))\n",
    "        except socket.timeout:\n",
    "            pass\n",
    "    "
   ]
  },
  {
   "cell_type": "code",
   "execution_count": 2,
   "metadata": {},
   "outputs": [
    {
     "name": "stdout",
     "output_type": "stream",
     "text": [
      "UDP server up and listening\n",
      "Message: 0.03\t from ('192.168.31.231', 61161)\n",
      "Message: -0.07\t from ('192.168.31.231', 61162)\n",
      "Message: 0.00\t from ('192.168.31.231', 61163)\n",
      "Message: -0.01\t from ('192.168.31.231', 61164)\n",
      "Message: -0.09\t from ('192.168.31.231', 61165)\n",
      "Message: 1.04\t from ('192.168.31.231', 61166)\n",
      "Message: -0.09\t from ('192.168.31.231', 61167)\n",
      "Message: -0.07\t from ('192.168.31.231', 61168)\n",
      "Message: 0.00\t from ('192.168.31.231', 61169)\n",
      "Message: -0.00\t from ('192.168.31.231', 61170)\n",
      "Message: -0.10\t from ('192.168.31.231', 61171)\n",
      "Message: 1.04\t from ('192.168.31.231', 61172)\n",
      "Message: -0.16\t from ('192.168.31.231', 61173)\n",
      "Message: -0.31\t from ('192.168.31.231', 61174)\n",
      "Message: 0.09\t from ('192.168.31.231', 61175)\n",
      "Message: -0.01\t from ('192.168.31.231', 61176)\n",
      "Message: -0.09\t from ('192.168.31.231', 61177)\n",
      "Message: 1.03\t from ('192.168.31.231', 61178)\n",
      "Message: 0.00\t from ('192.168.31.231', 61179)\n",
      "Message: -0.14\t from ('192.168.31.231', 61180)\n",
      "Message: 0.05\t from ('192.168.31.231', 61181)\n",
      "Message: -0.01\t from ('192.168.31.231', 61182)\n",
      "Message: -0.09\t from ('192.168.31.231', 61183)\n",
      "Message: 1.04\t from ('192.168.31.231', 61184)\n",
      "Message: 0.00\t from ('192.168.31.231', 61185)\n",
      "Message: -0.23\t from ('192.168.31.231', 61186)\n",
      "Message: 0.02\t from ('192.168.31.231', 61187)\n",
      "Message: -0.01\t from ('192.168.31.231', 61188)\n",
      "Message: -0.10\t from ('192.168.31.231', 61189)\n",
      "Message: 1.04\t from ('192.168.31.231', 61190)\n"
     ]
    }
   ],
   "source": [
    "udp_listener(localIP, port)"
   ]
  }
 ],
 "metadata": {
  "kernelspec": {
   "display_name": "base",
   "language": "python",
   "name": "python3"
  },
  "language_info": {
   "codemirror_mode": {
    "name": "ipython",
    "version": 3
   },
   "file_extension": ".py",
   "mimetype": "text/x-python",
   "name": "python",
   "nbconvert_exporter": "python",
   "pygments_lexer": "ipython3",
   "version": "3.11.0"
  },
  "orig_nbformat": 4,
  "vscode": {
   "interpreter": {
    "hash": "ad2bdc8ecc057115af97d19610ffacc2b4e99fae6737bb82f5d7fb13d2f2c186"
   }
  }
 },
 "nbformat": 4,
 "nbformat_minor": 2
}
