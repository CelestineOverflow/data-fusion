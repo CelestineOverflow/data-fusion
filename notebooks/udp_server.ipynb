{
 "cells": [
  {
   "cell_type": "code",
   "execution_count": 1,
   "metadata": {},
   "outputs": [
    {
     "name": "stdout",
     "output_type": "stream",
     "text": [
      "UDP server IP address: localhost:1337\n",
      "UDP server up and listening\n",
      "Message from Client:{'tag_id': 0, 'pose_t': [[0.4014985024805913], [-0.07711819197364261], [1.7684985968526215]], 'pose_quat': [-0.30595682506556177, 0.16132527624211412, -0.07467479624773556, 0.9353011553754043]}\n",
      "Client IP Address:('127.0.0.1', 64135)\n",
      "Message from Client:{'tag_id': 0, 'pose_t': [[0.4014985024805913], [-0.07711819197364261], [1.7684985968526215]], 'pose_quat': [-0.30595682506556177, 0.16132527624211412, -0.07467479624773556, 0.9353011553754043]}\n",
      "Client IP Address:('127.0.0.1', 64136)\n",
      "Message from Client:{'tag_id': 0, 'pose_t': [[0.2822028567037977], [-0.07566319953300124], [1.7448837860921755]], 'pose_quat': [-0.2691558824696019, 0.04808850525618583, -0.1700296159209327, 0.9467484017963883]}\n",
      "Client IP Address:('127.0.0.1', 64137)\n",
      "Message from Client:{'tag_id': 0, 'pose_t': [[0.2822028567037977], [-0.07566319953300124], [1.7448837860921755]], 'pose_quat': [-0.2691558824696019, 0.04808850525618583, -0.1700296159209327, 0.9467484017963883]}\n",
      "Client IP Address:('127.0.0.1', 64138)\n",
      "Message from Client:{'tag_id': 0, 'pose_t': [[0.26531978174810805], [-0.0730202287725876], [1.7071357840495232]], 'pose_quat': [-0.2799152423356659, 0.053376441683133845, -0.1728570942059066, 0.9428249241317832]}\n",
      "Client IP Address:('127.0.0.1', 64139)\n",
      "Message from Client:{'tag_id': 0, 'pose_t': [[0.26531978174810805], [-0.0730202287725876], [1.7071357840495232]], 'pose_quat': [-0.2799152423356659, 0.053376441683133845, -0.1728570942059066, 0.9428249241317832]}\n",
      "Client IP Address:('127.0.0.1', 64140)\n",
      "Message from Client:{'tag_id': 0, 'pose_t': [[0.2592618871852611], [-0.07068023295860634], [1.6933380050781761]], 'pose_quat': [-0.28471858000234457, 0.05125625752880616, -0.17396894152394848, 0.941298535880422]}\n",
      "Client IP Address:('127.0.0.1', 64141)\n",
      "Message from Client:{'tag_id': 0, 'pose_t': [[0.258508045818451], [-0.06944193374877637], [1.6938667127834501]], 'pose_quat': [-0.2889262848683186, 0.04614618706876901, -0.1725237573058353, 0.9405464818371726]}\n",
      "Client IP Address:('127.0.0.1', 64142)\n",
      "Message from Client:{'tag_id': 0, 'pose_t': [[0.258508045818451], [-0.06944193374877637], [1.6938667127834501]], 'pose_quat': [-0.2889262848683186, 0.04614618706876901, -0.1725237573058353, 0.9405464818371726]}\n",
      "Client IP Address:('127.0.0.1', 64143)\n",
      "Message from Client:{'tag_id': 0, 'pose_t': [[0.25887020799199334], [-0.0693492345231919], [1.6976593039681234]], 'pose_quat': [-0.2947882814426912, 0.04226915316805785, -0.16848014916764012, 0.9396422868043827]}\n",
      "Client IP Address:('127.0.0.1', 64144)\n",
      "Message from Client:{'tag_id': 0, 'pose_t': [[0.25887020799199334], [-0.0693492345231919], [1.6976593039681234]], 'pose_quat': [-0.2947882814426912, 0.04226915316805785, -0.16848014916764012, 0.9396422868043827]}\n",
      "Client IP Address:('127.0.0.1', 64145)\n",
      "Message from Client:{'tag_id': 0, 'pose_t': [[0.2586831487200862], [-0.06848966550953574], [1.701472770354948]], 'pose_quat': [-0.2989153598938666, 0.03758685423859811, -0.16728343552372563, 0.9387508126267301]}\n",
      "Client IP Address:('127.0.0.1', 64146)\n",
      "Message from Client:{'tag_id': 0, 'pose_t': [[0.2586831487200862], [-0.06848966550953574], [1.701472770354948]], 'pose_quat': [-0.2989153598938666, 0.03758685423859811, -0.16728343552372563, 0.9387508126267301]}\n",
      "Client IP Address:('127.0.0.1', 64147)\n",
      "Message from Client:{'tag_id': 0, 'pose_t': [[0.25821038514480843], [-0.06711002052885814], [1.7077179392751831]], 'pose_quat': [-0.29989547438734854, 0.0366472864231578, -0.16794176396318924, 0.9383577381557305]}\n",
      "Client IP Address:('127.0.0.1', 64148)\n",
      "Message from Client:{'tag_id': 0, 'pose_t': [[0.25648666287200456], [-0.06588788748588037], [1.7063643881108164]], 'pose_quat': [-0.300097781627259, 0.03648008188749376, -0.1681313022832495, 0.9382656288495377]}\n",
      "Client IP Address:('127.0.0.1', 64149)\n",
      "Message from Client:{'tag_id': 0, 'pose_t': [[0.25648666287200456], [-0.06588788748588037], [1.7063643881108164]], 'pose_quat': [-0.300097781627259, 0.03648008188749376, -0.1681313022832495, 0.9382656288495377]}\n",
      "Client IP Address:('127.0.0.1', 64150)\n",
      "Message from Client:{'tag_id': 0, 'pose_t': [[0.2543175851678551], [-0.066513861639412], [1.7078444663254981]], 'pose_quat': [-0.30467793861368003, 0.05126674514092199, -0.1666468955384034, 0.9363609810175705]}\n",
      "Client IP Address:('127.0.0.1', 64151)\n",
      "Message from Client:{'tag_id': 0, 'pose_t': [[0.2543175851678551], [-0.066513861639412], [1.7078444663254981]], 'pose_quat': [-0.30467793861368003, 0.05126674514092199, -0.1666468955384034, 0.9363609810175705]}\n",
      "Client IP Address:('127.0.0.1', 64152)\n",
      "Message from Client:{'tag_id': 0, 'pose_t': [[0.2523847085326843], [-0.06928592687873548], [1.74202875479047]], 'pose_quat': [-0.3074223850281003, 0.1637444603370622, -0.16733025499029258, 0.9223230533047748]}\n",
      "Client IP Address:('127.0.0.1', 64153)\n",
      "Message from Client:{'tag_id': 0, 'pose_t': [[0.2523847085326843], [-0.06928592687873548], [1.74202875479047]], 'pose_quat': [-0.3074223850281003, 0.1637444603370622, -0.16733025499029258, 0.9223230533047748]}\n",
      "Client IP Address:('127.0.0.1', 64154)\n",
      "Message from Client:{'tag_id': 0, 'pose_t': [[0.24527382951319146], [-0.06721006528276756], [1.7231079616944576]], 'pose_quat': [0.3166166382166278, -0.22062132934198864, -0.21392411441303105, 0.897394342926439]}\n",
      "Client IP Address:('127.0.0.1', 64155)\n"
     ]
    },
    {
     "ename": "KeyboardInterrupt",
     "evalue": "",
     "output_type": "error",
     "traceback": [
      "\u001b[1;31m---------------------------------------------------------------------------\u001b[0m",
      "\u001b[1;31mtimeout\u001b[0m                                   Traceback (most recent call last)",
      "\u001b[1;32m~\\AppData\\Local\\Temp\\ipykernel_6260\\1688119343.py\u001b[0m in \u001b[0;36mudp_listener\u001b[1;34m(ip, port)\u001b[0m\n\u001b[0;32m     16\u001b[0m         \u001b[1;32mtry\u001b[0m\u001b[1;33m:\u001b[0m\u001b[1;33m\u001b[0m\u001b[1;33m\u001b[0m\u001b[0m\n\u001b[1;32m---> 17\u001b[1;33m             \u001b[0mdata\u001b[0m\u001b[1;33m,\u001b[0m \u001b[0maddr\u001b[0m \u001b[1;33m=\u001b[0m \u001b[0ms\u001b[0m\u001b[1;33m.\u001b[0m\u001b[0mrecvfrom\u001b[0m\u001b[1;33m(\u001b[0m\u001b[0mbufferSize\u001b[0m\u001b[1;33m)\u001b[0m\u001b[1;33m\u001b[0m\u001b[1;33m\u001b[0m\u001b[0m\n\u001b[0m\u001b[0;32m     18\u001b[0m             \u001b[0mdata\u001b[0m \u001b[1;33m=\u001b[0m \u001b[0mpickle\u001b[0m\u001b[1;33m.\u001b[0m\u001b[0mloads\u001b[0m\u001b[1;33m(\u001b[0m\u001b[0mdata\u001b[0m\u001b[1;33m)\u001b[0m\u001b[1;33m\u001b[0m\u001b[1;33m\u001b[0m\u001b[0m\n",
      "\u001b[1;31mtimeout\u001b[0m: timed out",
      "\nDuring handling of the above exception, another exception occurred:\n",
      "\u001b[1;31mKeyboardInterrupt\u001b[0m                         Traceback (most recent call last)",
      "\u001b[1;32m~\\AppData\\Local\\Temp\\ipykernel_6260\\1688119343.py\u001b[0m in \u001b[0;36m<module>\u001b[1;34m\u001b[0m\n\u001b[0;32m     22\u001b[0m             \u001b[1;32mpass\u001b[0m\u001b[1;33m\u001b[0m\u001b[1;33m\u001b[0m\u001b[0m\n\u001b[0;32m     23\u001b[0m \u001b[1;33m\u001b[0m\u001b[0m\n\u001b[1;32m---> 24\u001b[1;33m \u001b[0mudp_listener\u001b[0m\u001b[1;33m(\u001b[0m\u001b[0mlocalIP\u001b[0m\u001b[1;33m,\u001b[0m \u001b[0mport\u001b[0m\u001b[1;33m)\u001b[0m\u001b[1;33m\u001b[0m\u001b[1;33m\u001b[0m\u001b[0m\n\u001b[0m",
      "\u001b[1;32m~\\AppData\\Local\\Temp\\ipykernel_6260\\1688119343.py\u001b[0m in \u001b[0;36mudp_listener\u001b[1;34m(ip, port)\u001b[0m\n\u001b[0;32m     15\u001b[0m     \u001b[1;32mwhile\u001b[0m \u001b[1;32mTrue\u001b[0m\u001b[1;33m:\u001b[0m\u001b[1;33m\u001b[0m\u001b[1;33m\u001b[0m\u001b[0m\n\u001b[0;32m     16\u001b[0m         \u001b[1;32mtry\u001b[0m\u001b[1;33m:\u001b[0m\u001b[1;33m\u001b[0m\u001b[1;33m\u001b[0m\u001b[0m\n\u001b[1;32m---> 17\u001b[1;33m             \u001b[0mdata\u001b[0m\u001b[1;33m,\u001b[0m \u001b[0maddr\u001b[0m \u001b[1;33m=\u001b[0m \u001b[0ms\u001b[0m\u001b[1;33m.\u001b[0m\u001b[0mrecvfrom\u001b[0m\u001b[1;33m(\u001b[0m\u001b[0mbufferSize\u001b[0m\u001b[1;33m)\u001b[0m\u001b[1;33m\u001b[0m\u001b[1;33m\u001b[0m\u001b[0m\n\u001b[0m\u001b[0;32m     18\u001b[0m             \u001b[0mdata\u001b[0m \u001b[1;33m=\u001b[0m \u001b[0mpickle\u001b[0m\u001b[1;33m.\u001b[0m\u001b[0mloads\u001b[0m\u001b[1;33m(\u001b[0m\u001b[0mdata\u001b[0m\u001b[1;33m)\u001b[0m\u001b[1;33m\u001b[0m\u001b[1;33m\u001b[0m\u001b[0m\n\u001b[0;32m     19\u001b[0m             \u001b[0mprint\u001b[0m\u001b[1;33m(\u001b[0m\u001b[1;34m\"Message from Client:{}\"\u001b[0m\u001b[1;33m.\u001b[0m\u001b[0mformat\u001b[0m\u001b[1;33m(\u001b[0m\u001b[0mdata\u001b[0m\u001b[1;33m)\u001b[0m\u001b[1;33m)\u001b[0m\u001b[1;33m\u001b[0m\u001b[1;33m\u001b[0m\u001b[0m\n",
      "\u001b[1;31mKeyboardInterrupt\u001b[0m: "
     ]
    }
   ],
   "source": [
    "import socket\n",
    "import pickle\n",
    "\n",
    "localIP = 'localhost'\n",
    "port = 1337\n",
    "bufferSize = 1024\n",
    "\n",
    "print(\"UDP server IP address: \" + localIP + \":\" + str(port))\n",
    "\n",
    "def udp_listener(ip, port):\n",
    "    s = socket.socket(socket.AF_INET, socket.SOCK_DGRAM)\n",
    "    s.bind((ip, port))\n",
    "    print(\"UDP server up and listening\")\n",
    "    s.settimeout(0.1)\n",
    "    while True:\n",
    "        try:\n",
    "            data, addr = s.recvfrom(bufferSize)\n",
    "            data = pickle.loads(data)\n",
    "            print(\"Message from Client:{}\".format(data))\n",
    "            print(\"Client IP Address:{}\".format(addr))\n",
    "        except:\n",
    "            pass\n",
    "        \n",
    "udp_listener(localIP, port)"
   ]
  }
 ],
 "metadata": {
  "kernelspec": {
   "display_name": "base",
   "language": "python",
   "name": "python3"
  },
  "language_info": {
   "codemirror_mode": {
    "name": "ipython",
    "version": 3
   },
   "file_extension": ".py",
   "mimetype": "text/x-python",
   "name": "python",
   "nbconvert_exporter": "python",
   "pygments_lexer": "ipython3",
   "version": "3.9.13"
  },
  "orig_nbformat": 4,
  "vscode": {
   "interpreter": {
    "hash": "ad2bdc8ecc057115af97d19610ffacc2b4e99fae6737bb82f5d7fb13d2f2c186"
   }
  }
 },
 "nbformat": 4,
 "nbformat_minor": 2
}
