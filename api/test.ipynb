{
 "cells": [
  {
   "cell_type": "code",
   "execution_count": 6,
   "metadata": {},
   "outputs": [
    {
     "name": "stdout",
     "output_type": "stream",
     "text": [
      "Discovering IMU services...\n"
     ]
    },
    {
     "name": "stderr",
     "output_type": "stream",
     "text": [
      "c:\\Python311\\Lib\\site-packages\\zeroconf\\_services\\browser.py:178: FutureWarning: <__main__.ServiceListener object at 0x000001FD567A8150> has no update_service method. Provide one (it can be empty if you don't care about the updates), it'll become mandatory.\n",
      "  warnings.warn(\n"
     ]
    },
    {
     "name": "stdout",
     "output_type": "stream",
     "text": [
      "IMU Services discovered: []\n",
      "\n",
      "Discovering Camera services...\n"
     ]
    },
    {
     "name": "stderr",
     "output_type": "stream",
     "text": [
      "c:\\Python311\\Lib\\site-packages\\zeroconf\\_services\\browser.py:178: FutureWarning: <__main__.ServiceListener object at 0x000001FD567A9A50> has no update_service method. Provide one (it can be empty if you don't care about the updates), it'll become mandatory.\n",
      "  warnings.warn(\n"
     ]
    },
    {
     "name": "stdout",
     "output_type": "stream",
     "text": [
      "Camera Services discovered: []\n"
     ]
    },
    {
     "name": "stderr",
     "output_type": "stream",
     "text": [
      "Exception in thread zeroconf-ServiceBrowser-_imu._udp-30596:\n",
      "Traceback (most recent call last):\n",
      "  File \"c:\\Python311\\Lib\\threading.py\", line 1038, in _bootstrap_inner\n",
      "    self.run()\n",
      "  File \"c:\\Python311\\Lib\\site-packages\\zeroconf\\_services\\browser.py\", line 547, in run\n",
      "    self._fire_service_state_changed_event(event)\n",
      "  File \"c:\\Python311\\Lib\\site-packages\\zeroconf\\_services\\browser.py\", line 425, in _fire_service_state_changed_event\n",
      "    self._service_state_changed.fire(\n",
      "  File \"c:\\Python311\\Lib\\site-packages\\zeroconf\\_services\\__init__.py\", line 54, in fire\n",
      "    h(**kwargs)\n",
      "  File \"c:\\Python311\\Lib\\site-packages\\zeroconf\\_services\\browser.py\", line 187, in on_change\n",
      "    getattr(listener, _ON_CHANGE_DISPATCH[state_change])(zeroconf, service_type, name)\n",
      "  File \"C:\\Users\\celes\\AppData\\Local\\Temp\\ipykernel_19172\\385847489.py\", line 9, in add_service\n",
      "  File \"c:\\Python311\\Lib\\site-packages\\zeroconf\\_core.py\", line 576, in get_service_info\n",
      "    if info.request(self, timeout, question_type):\n",
      "       ^^^^^^^^^^^^^^^^^^^^^^^^^^^^^^^^^^^^^^^^^^\n",
      "  File \"c:\\Python311\\Lib\\site-packages\\zeroconf\\_services\\info.py\", line 590, in request\n",
      "    return bool(run_coro_with_timeout(self.async_request(zc, timeout, question_type), zc.loop, timeout))\n",
      "                ^^^^^^^^^^^^^^^^^^^^^^^^^^^^^^^^^^^^^^^^^^^^^^^^^^^^^^^^^^^^^^^^^^^^^^^^^^^^^^^^^^^^^^^\n",
      "  File \"c:\\Python311\\Lib\\site-packages\\zeroconf\\_utils\\asyncio.py\", line 86, in run_coro_with_timeout\n",
      "    return asyncio.run_coroutine_threadsafe(aw, loop).result(\n",
      "           ^^^^^^^^^^^^^^^^^^^^^^^^^^^^^^^^^^^^^^^^^^^^^^^^^^\n",
      "  File \"c:\\Python311\\Lib\\concurrent\\futures\\_base.py\", line 456, in result\n",
      "    return self.__get_result()\n",
      "           ^^^^^^^^^^^^^^^^^^^\n",
      "  File \"c:\\Python311\\Lib\\concurrent\\futures\\_base.py\", line 401, in __get_result\n",
      "    raise self._exception\n",
      "  File \"c:\\Python311\\Lib\\site-packages\\zeroconf\\_services\\info.py\", line 599, in async_request\n",
      "    await zc.async_wait_for_start()\n",
      "  File \"c:\\Python311\\Lib\\site-packages\\zeroconf\\_core.py\", line 543, in async_wait_for_start\n",
      "    raise NotRunningException\n",
      "zeroconf._exceptions.NotRunningException\n",
      "Exception in thread zeroconf-ServiceBrowser-_camera._udp-11544:\n",
      "Traceback (most recent call last):\n",
      "  File \"c:\\Python311\\Lib\\threading.py\", line 1038, in _bootstrap_inner\n",
      "    self.run()\n",
      "  File \"c:\\Python311\\Lib\\site-packages\\zeroconf\\_services\\browser.py\", line 547, in run\n",
      "    self._fire_service_state_changed_event(event)\n",
      "  File \"c:\\Python311\\Lib\\site-packages\\zeroconf\\_services\\browser.py\", line 425, in _fire_service_state_changed_event\n",
      "    self._service_state_changed.fire(\n",
      "  File \"c:\\Python311\\Lib\\site-packages\\zeroconf\\_services\\__init__.py\", line 54, in fire\n",
      "    h(**kwargs)\n",
      "  File \"c:\\Python311\\Lib\\site-packages\\zeroconf\\_services\\browser.py\", line 187, in on_change\n",
      "    getattr(listener, _ON_CHANGE_DISPATCH[state_change])(zeroconf, service_type, name)\n",
      "  File \"C:\\Users\\celes\\AppData\\Local\\Temp\\ipykernel_19172\\385847489.py\", line 9, in add_service\n",
      "  File \"c:\\Python311\\Lib\\site-packages\\zeroconf\\_core.py\", line 576, in get_service_info\n",
      "    if info.request(self, timeout, question_type):\n",
      "       ^^^^^^^^^^^^^^^^^^^^^^^^^^^^^^^^^^^^^^^^^^\n",
      "  File \"c:\\Python311\\Lib\\site-packages\\zeroconf\\_services\\info.py\", line 590, in request\n",
      "    return bool(run_coro_with_timeout(self.async_request(zc, timeout, question_type), zc.loop, timeout))\n",
      "                ^^^^^^^^^^^^^^^^^^^^^^^^^^^^^^^^^^^^^^^^^^^^^^^^^^^^^^^^^^^^^^^^^^^^^^^^^^^^^^^^^^^^^^^\n",
      "  File \"c:\\Python311\\Lib\\site-packages\\zeroconf\\_utils\\asyncio.py\", line 86, in run_coro_with_timeout\n",
      "    return asyncio.run_coroutine_threadsafe(aw, loop).result(\n",
      "           ^^^^^^^^^^^^^^^^^^^^^^^^^^^^^^^^^^^^^^^^^^^^^^^^^^\n",
      "  File \"c:\\Python311\\Lib\\concurrent\\futures\\_base.py\", line 456, in result\n",
      "    return self.__get_result()\n",
      "           ^^^^^^^^^^^^^^^^^^^\n",
      "  File \"c:\\Python311\\Lib\\concurrent\\futures\\_base.py\", line 401, in __get_result\n",
      "    raise self._exception\n",
      "  File \"c:\\Python311\\Lib\\site-packages\\zeroconf\\_services\\info.py\", line 599, in async_request\n",
      "    await zc.async_wait_for_start()\n",
      "  File \"c:\\Python311\\Lib\\site-packages\\zeroconf\\_core.py\", line 543, in async_wait_for_start\n",
      "    raise NotRunningException\n",
      "zeroconf._exceptions.NotRunningException\n"
     ]
    }
   ],
   "source": [
    "from zeroconf import Zeroconf, ServiceBrowser\n",
    "import time\n",
    "\n",
    "# Global list to store service info\n",
    "discovered_services = []\n",
    "\n",
    "class ServiceListener:\n",
    "    def add_service(self, zeroconf, type, name):\n",
    "        info = zeroconf.get_service_info(type, name)\n",
    "        if info:\n",
    "            addresses = [socket.inet_ntoa(addr) for addr in info.addresses]\n",
    "            discovered_services.append((name, addresses))\n",
    "            print(f\"Discovered service: {name} at {addresses}\")\n",
    "\n",
    "    def update_service(self, zeroconf, type, name):\n",
    "        # This can be empty if you don't care about service updates\n",
    "        pass\n",
    "\n",
    "\n",
    "def discover_services(service_type, timeout=3):\n",
    "    zeroconf = Zeroconf()\n",
    "    listener = ServiceListener()\n",
    "    browser = ServiceBrowser(zeroconf, service_type, listener)\n",
    "    \n",
    "    # Wait for a bit to allow service discovery\n",
    "    time.sleep(timeout)\n",
    "    \n",
    "    zeroconf.close()\n",
    "    return discovered_services\n",
    "\n",
    "if __name__ == \"__main__\":\n",
    "    service_type_imu = \"_imu._udp.local.\"\n",
    "    service_type_camera = \"_camera._udp.local.\"\n",
    "    \n",
    "    # Discover IMU Services\n",
    "    print(\"Discovering IMU services...\")\n",
    "    imu_services = discover_services(service_type_imu)\n",
    "    print(\"IMU Services discovered:\", imu_services)\n",
    "    print()\n",
    "    print(\"Discovering Camera services...\")\n",
    "    camera_services = discover_services(service_type_camera)\n",
    "    print(\"Camera Services discovered:\", camera_services)\n",
    "    \n"
   ]
  }
 ],
 "metadata": {
  "kernelspec": {
   "display_name": "Python 3",
   "language": "python",
   "name": "python3"
  },
  "language_info": {
   "codemirror_mode": {
    "name": "ipython",
    "version": 3
   },
   "file_extension": ".py",
   "mimetype": "text/x-python",
   "name": "python",
   "nbconvert_exporter": "python",
   "pygments_lexer": "ipython3",
   "version": "3.11.0"
  }
 },
 "nbformat": 4,
 "nbformat_minor": 2
}
